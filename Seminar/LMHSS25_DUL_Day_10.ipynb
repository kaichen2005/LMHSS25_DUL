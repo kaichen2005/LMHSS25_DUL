{
 "cells": [
  {
   "cell_type": "code",
   "execution_count": 67,
   "metadata": {
    "executionInfo": {
     "elapsed": 8,
     "status": "ok",
     "timestamp": 1717954192916,
     "user": {
      "displayName": "Telha Bin Bilal",
      "userId": "04147761314111353462"
     },
     "user_tz": -300
    },
    "id": "xn2EYLbArKIE"
   },
   "outputs": [],
   "source": [
    "from IPython.display import clear_output"
   ]
  },
  {
   "cell_type": "code",
   "execution_count": 68,
   "metadata": {
    "executionInfo": {
     "elapsed": 40125,
     "status": "ok",
     "timestamp": 1717954233034,
     "user": {
      "displayName": "Telha Bin Bilal",
      "userId": "04147761314111353462"
     },
     "user_tz": -300
    },
    "id": "N1AFx8YVrLsB"
   },
   "outputs": [],
   "source": [
    "# %pip install torch torchvision torchsummary\n",
    "# %pip install matplotlib\n",
    "# %pip install pillow\n",
    "\n",
    "# clear_output()"
   ]
  },
  {
   "cell_type": "markdown",
   "metadata": {
    "id": "JJ5CR6vzDyab"
   },
   "source": [
    "# Contents\n",
    "\n",
    "In this notebook, you will build a custom Pytorch Dataset, add data augmentation to our data and use a Dataloader to process our dataset for training loop.\n",
    "\n",
    "### The plan\n",
    "\n",
    "We will save Cifar-10's images in a directory and put the paths and labels into a pandas dataframe.\n",
    "\n",
    "Then we will use that dataframe as the source of our dataset. This will represent the example of how we can build a custom dataset class, which will work with our custom CSV files"
   ]
  },
  {
   "cell_type": "code",
   "execution_count": 69,
   "metadata": {
    "executionInfo": {
     "elapsed": 497,
     "status": "ok",
     "timestamp": 1717956355886,
     "user": {
      "displayName": "Telha Bin Bilal",
      "userId": "04147761314111353462"
     },
     "user_tz": -300
    },
    "id": "ojrPcD9u3ekW"
   },
   "outputs": [],
   "source": [
    "import os\n",
    "import random\n",
    "\n",
    "import torch\n",
    "import torch.nn as nn\n",
    "import torch.nn.functional as F\n",
    "import torch.optim as optim\n",
    "\n",
    "import matplotlib.pyplot as plt\n",
    "from torch.utils.data import Dataset, DataLoader\n",
    "\n",
    "from PIL import Image\n",
    "\n",
    "from torchvision import transforms\n",
    "from torchvision.datasets import CIFAR10\n",
    "import pandas as pd\n",
    "\n",
    "from tqdm import tqdm\n",
    "\n",
    "from time import sleep\n",
    "\n",
    "%matplotlib inline"
   ]
  },
  {
   "cell_type": "markdown",
   "metadata": {
    "id": "Hz7D0WafuXYu"
   },
   "source": [
    "## Let's download Cifar10 images"
   ]
  },
  {
   "cell_type": "code",
   "execution_count": 70,
   "metadata": {
    "colab": {
     "base_uri": "https://localhost:8080/"
    },
    "executionInfo": {
     "elapsed": 8801,
     "status": "ok",
     "timestamp": 1717954344635,
     "user": {
      "displayName": "Telha Bin Bilal",
      "userId": "04147761314111353462"
     },
     "user_tz": -300
    },
    "id": "B4Y2yq5rtTp9",
    "outputId": "db724a1e-d762-4aaf-fa8b-0b0f9b389b04"
   },
   "outputs": [
    {
     "name": "stdout",
     "output_type": "stream",
     "text": [
      "Files already downloaded and verified\n"
     ]
    }
   ],
   "source": [
    "# We're only using this to download dataset. we will manually create a dataset from downloaded files\n",
    "data = CIFAR10(root='./datasets', train=False, download=True)"
   ]
  },
  {
   "cell_type": "markdown",
   "metadata": {
    "id": "CEpJsFPcE2Y3"
   },
   "source": [
    "### Creating the Dataframe\n",
    "\n",
    "We'll save some of the dataset images in a directory and make a pandas dataframe of the paths which can then be used by our custom Dataset"
   ]
  },
  {
   "cell_type": "code",
   "execution_count": 71,
   "metadata": {
    "executionInfo": {
     "elapsed": 422,
     "status": "ok",
     "timestamp": 1717955542801,
     "user": {
      "displayName": "Telha Bin Bilal",
      "userId": "04147761314111353462"
     },
     "user_tz": -300
    },
    "id": "KSXYu1txukHe"
   },
   "outputs": [],
   "source": [
    "num_images = 500\n",
    "img_dir = 'images/'\n",
    "\n",
    "if not os.path.isdir(img_dir):\n",
    "  os.makedirs(img_dir)\n",
    "\n",
    "img_paths = []\n",
    "img_labels = []\n",
    "\n",
    "for i in range(num_images):\n",
    "\n",
    "  img, label = data[i]\n",
    "\n",
    "  img_name = f'image_{i}.png'\n",
    "  img_path = os.path.join(img_dir, img_name)\n",
    "\n",
    "  img.save(img_path)\n",
    "\n",
    "  img_paths.append(img_path)\n",
    "  img_labels.append(label)\n",
    "\n",
    "img_df = pd.DataFrame({\n",
    "    'img_path': img_paths,\n",
    "    'label': img_labels\n",
    "})"
   ]
  },
  {
   "cell_type": "code",
   "execution_count": 72,
   "metadata": {
    "colab": {
     "base_uri": "https://localhost:8080/",
     "height": 206
    },
    "executionInfo": {
     "elapsed": 10,
     "status": "ok",
     "timestamp": 1717955544236,
     "user": {
      "displayName": "Telha Bin Bilal",
      "userId": "04147761314111353462"
     },
     "user_tz": -300
    },
    "id": "I6GCDV-zwbvi",
    "outputId": "d6adc700-503b-42d5-b611-b406fa1c5383"
   },
   "outputs": [
    {
     "data": {
      "application/vnd.microsoft.datawrangler.viewer.v0+json": {
       "columns": [
        {
         "name": "index",
         "rawType": "int64",
         "type": "integer"
        },
        {
         "name": "img_path",
         "rawType": "object",
         "type": "string"
        },
        {
         "name": "label",
         "rawType": "int64",
         "type": "integer"
        }
       ],
       "ref": "0047d598-104c-4eab-8c36-6e311becc451",
       "rows": [
        [
         "0",
         "images/image_0.png",
         "3"
        ],
        [
         "1",
         "images/image_1.png",
         "8"
        ],
        [
         "2",
         "images/image_2.png",
         "8"
        ],
        [
         "3",
         "images/image_3.png",
         "0"
        ],
        [
         "4",
         "images/image_4.png",
         "6"
        ]
       ],
       "shape": {
        "columns": 2,
        "rows": 5
       }
      },
      "text/html": [
       "<div>\n",
       "<style scoped>\n",
       "    .dataframe tbody tr th:only-of-type {\n",
       "        vertical-align: middle;\n",
       "    }\n",
       "\n",
       "    .dataframe tbody tr th {\n",
       "        vertical-align: top;\n",
       "    }\n",
       "\n",
       "    .dataframe thead th {\n",
       "        text-align: right;\n",
       "    }\n",
       "</style>\n",
       "<table border=\"1\" class=\"dataframe\">\n",
       "  <thead>\n",
       "    <tr style=\"text-align: right;\">\n",
       "      <th></th>\n",
       "      <th>img_path</th>\n",
       "      <th>label</th>\n",
       "    </tr>\n",
       "  </thead>\n",
       "  <tbody>\n",
       "    <tr>\n",
       "      <th>0</th>\n",
       "      <td>images/image_0.png</td>\n",
       "      <td>3</td>\n",
       "    </tr>\n",
       "    <tr>\n",
       "      <th>1</th>\n",
       "      <td>images/image_1.png</td>\n",
       "      <td>8</td>\n",
       "    </tr>\n",
       "    <tr>\n",
       "      <th>2</th>\n",
       "      <td>images/image_2.png</td>\n",
       "      <td>8</td>\n",
       "    </tr>\n",
       "    <tr>\n",
       "      <th>3</th>\n",
       "      <td>images/image_3.png</td>\n",
       "      <td>0</td>\n",
       "    </tr>\n",
       "    <tr>\n",
       "      <th>4</th>\n",
       "      <td>images/image_4.png</td>\n",
       "      <td>6</td>\n",
       "    </tr>\n",
       "  </tbody>\n",
       "</table>\n",
       "</div>"
      ],
      "text/plain": [
       "             img_path  label\n",
       "0  images/image_0.png      3\n",
       "1  images/image_1.png      8\n",
       "2  images/image_2.png      8\n",
       "3  images/image_3.png      0\n",
       "4  images/image_4.png      6"
      ]
     },
     "execution_count": 72,
     "metadata": {},
     "output_type": "execute_result"
    }
   ],
   "source": [
    "img_df.head()"
   ]
  },
  {
   "cell_type": "markdown",
   "metadata": {},
   "source": [
    "### Instructions\n",
    "\n",
    "1. Create a custom dataset class(which inherits pytorch's Dataset)\n",
    "\n",
    "2. Make this class able to take the Dataframe we created as a parameter.\n",
    "\n",
    "3. Add 2 more parameters of invert_prob and random_crop_prob in the constructor\n",
    "\n",
    "4. Implement the dataset. When the dataset gets the item at idx i, it needs to return the image who's path is at the i index in the dataframe as well as the label.\n",
    "\n",
    "5. The invert_prob and random_crop_prob add into the dataset like this: Everytime a sample is accesed from the dataset, use the invert_prob probability to decide whether the image returned should be inverted and the random_crop_prob probability to decide if we need to apply RandomResizedCrop to it. The Resize Crop shouldn't change the size of the images\n",
    "\n",
    "6. Create an object of the Dataset and Create a DataLoader using the Dataset Object\n",
    "\n",
    "7. Write an Empty Loop through the Dataloader. This is to ensure the dataloader and the dataset are running properly"
   ]
  },
  {
   "cell_type": "code",
   "execution_count": 73,
   "metadata": {
    "executionInfo": {
     "elapsed": 416,
     "status": "ok",
     "timestamp": 1717955644276,
     "user": {
      "displayName": "Telha Bin Bilal",
      "userId": "04147761314111353462"
     },
     "user_tz": -300
    },
    "id": "6_RZI9akst_H"
   },
   "outputs": [],
   "source": [
    "from PIL import ImageOps\n",
    "\n",
    "class CustomImageDataset(Dataset):\n",
    "    def __init__(self, img_df, invert_prob, random_crop_prob, transform=None):\n",
    "        self.img_df = img_df\n",
    "        self.invert_prob = invert_prob\n",
    "        self.random_crop_prob = random_crop_prob\n",
    "        self.transform = transform\n",
    "        self.default_transform = transforms.ToTensor()\n",
    "        \n",
    "    def __len__(self):\n",
    "        return len(self.img_df)\n",
    "\n",
    "    def __getitem__(self, idx):\n",
    "        img_path = self.img_df.iloc[idx]['img_path']\n",
    "        label = self.img_df.iloc[idx]['label']\n",
    "        img = Image.open(img_path).convert('RGB')\n",
    "        if self.transform:\n",
    "            img = self.transform(img)\n",
    "        if random.random() < self.invert_prob:\n",
    "            img = ImageOps.invert(img)\n",
    "        if random.random() < self.random_crop_prob:\n",
    "            original_size = img.size\n",
    "            img = transforms.RandomCrop(size=original_size)(img)\n",
    "        img = self.default_transform(img)\n",
    "        \n",
    "        return img, label"
   ]
  },
  {
   "cell_type": "code",
   "execution_count": 74,
   "metadata": {},
   "outputs": [],
   "source": [
    "custom_image_dataset = CustomImageDataset(\n",
    "    img_df=img_df,\n",
    "    invert_prob=0.5,\n",
    "    random_crop_prob=0.5,\n",
    ")\n",
    "\n",
    "test_loader = DataLoader(\n",
    "    custom_image_dataset,\n",
    "    batch_size=2,\n",
    "    num_workers=0,\n",
    "    shuffle=True,\n",
    ")"
   ]
  },
  {
   "cell_type": "code",
   "execution_count": 75,
   "metadata": {},
   "outputs": [
    {
     "data": {
      "image/png": "[encoded data removed]",
      "text/plain": [
       "<Figure size 1500x600 with 10 Axes>"
      ]
     },
     "metadata": {},
     "output_type": "display_data"
    }
   ],
   "source": [
    "number_of_images = 10\n",
    "samples = []\n",
    "count = 0\n",
    "for images, labels in test_loader:\n",
    "    for i in range(len(images)):\n",
    "        if count >= number_of_images:\n",
    "            break\n",
    "        samples.append((images[i], labels[i]))\n",
    "        count += 1\n",
    "    if count >= number_of_images:\n",
    "        break\n",
    "\n",
    "fig, axes = plt.subplots(2, 5, figsize=(15, 6))\n",
    "axes = axes.flatten()\n",
    "for ax, (img, label) in zip(axes, samples):\n",
    "    ax.imshow(img.permute(1, 2, 0).numpy())\n",
    "    ax.set_title(f'Label: {label.item()}')\n",
    "    ax.axis('off')\n",
    "plt.tight_layout()\n",
    "plt.show()"
   ]
  }
 ],
 "metadata": {
  "colab": {
   "provenance": []
  },
  "kernelspec": {
   "display_name": "base",
   "language": "python",
   "name": "python3"
  },
  "language_info": {
   "codemirror_mode": {
    "name": "ipython",
    "version": 3
   },
   "file_extension": ".py",
   "mimetype": "text/x-python",
   "name": "python",
   "nbconvert_exporter": "python",
   "pygments_lexer": "ipython3",
   "version": "3.12.7"
  }
 },
 "nbformat": 4,
 "nbformat_minor": 0
}
