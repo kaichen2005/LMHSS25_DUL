{
 "cells": [
  {
   "cell_type": "markdown",
   "metadata": {},
   "source": [
    "# Contents\n",
    "\n",
    "In this notebook, we will create a RealNVP(real-valued non-volume preserving) generative model for the MNIST dataset, with an intermediate AutoEncoder.\n",
    "\n",
    "Instead of training the model on direct pixel values and generating images, we will\n",
    "\n",
    "1. Train an AutoEncoder for the images\n",
    "2. Convert the data into embeddings using the AutoEncoder's encoder\n",
    "3. Train our RealNVP model on the embeddings\n",
    "4. Generate embeddings using the RealNVP model and convert them to images using the AutoEncoder's decoder\n",
    "\n",
    "This notebook is heavily based on [This Repo](https://github.com/SpencerSzabados/realnvp-pytorch/tree/master)"
   ]
  },
  {
   "cell_type": "code",
   "execution_count": 97,
   "metadata": {},
   "outputs": [],
   "source": [
    "import copy\n",
    "\n",
    "import numpy as np\n",
    "from tqdm import tqdm\n",
    "import matplotlib.pyplot as plt\n",
    "\n",
    "\n",
    "import torch\n",
    "from torch import nn, distributions\n",
    "from torch.nn import BCELoss\n",
    "from torch.nn import functional as F\n",
    "from torchvision import datasets, transforms"
   ]
  },
  {
   "cell_type": "code",
   "execution_count": null,
   "metadata": {},
   "outputs": [],
   "source": []
  },
  {
   "cell_type": "code",
   "execution_count": 98,
   "metadata": {},
   "outputs": [],
   "source": [
    "# Set the random seeds\n",
    "torch.manual_seed(0)\n",
    "np.random.seed(0)\n",
    "\n",
    "torch.backends.cudnn.deterministic = True\n",
    "torch.backends.cudnn.benchmark = False"
   ]
  },
  {
   "cell_type": "code",
   "execution_count": 99,
   "metadata": {},
   "outputs": [
    {
     "name": "stdout",
     "output_type": "stream",
     "text": [
      "Using device: cpu\n"
     ]
    }
   ],
   "source": [
    "# Setup device\n",
    "device = torch.device('cuda' if torch.cuda.is_available() else 'cpu')\n",
    "print(f\"Using device: {device}\")"
   ]
  },
  {
   "cell_type": "markdown",
   "metadata": {},
   "source": [
    "### Loading Data"
   ]
  },
  {
   "cell_type": "code",
   "execution_count": 100,
   "metadata": {},
   "outputs": [],
   "source": [
    "transform = transforms.Compose([transforms.ToTensor()])\n",
    "\n",
    "# Load the dataset\n",
    "train_set = datasets.MNIST('./data',\n",
    "                           train=True,\n",
    "                           download=True,\n",
    "                           transform=transform,)\n",
    "\n",
    "BATCH_SIZE = 100\n",
    "\n",
    "train_loader = torch.utils.data.DataLoader(train_set, BATCH_SIZE)"
   ]
  },
  {
   "cell_type": "markdown",
   "metadata": {},
   "source": [
    "### Autoencoder definition"
   ]
  },
  {
   "cell_type": "markdown",
   "metadata": {},
   "source": [
    "# **📌 Autoencoder for Dimensionality Reduction**\n",
    "Before we build the Normalizing Flow, we first need a way to represent the high-dimensional MNIST images (28x28 = 784 pixels) in a much smaller, more manageable space. An **Autoencoder** is perfect for this task.\n",
    "\n",
    "## **🔹 How it Works**\n",
    "1️⃣ **Encoder**: A neural network that compresses the input image into a low-dimensional latent vector (embedding). This embedding captures the most important features of the image.\n",
    "\n",
    "2️⃣ **Decoder**: Another neural network that reconstructs the original image from the latent vector.\n",
    "\n",
    "By training the Autoencoder to minimize the difference between the original and reconstructed image, the encoder learns to create meaningful, information-rich embeddings. We will then train our Normalizing Flow model on these embeddings instead of the raw pixel data.\n",
    "\n",
    "\n",
    "\n",
    "## **📌 Expected Input & Output Shapes**\n",
    "- **Input Image:** `(batch_size, 1, 28, 28)`\n",
    "- **Latent Embedding:** `(batch_size, 20)`  *(20 is our `EMBEDDING_DIM`)*\n",
    "- **Reconstructed Image:** `(batch_size, 1, 28, 28)`"
   ]
  },
  {
   "cell_type": "code",
   "execution_count": 101,
   "metadata": {},
   "outputs": [],
   "source": [
    "EMBEDDING_DIM = 20      # The dimension of the embeddings"
   ]
  },
  {
   "cell_type": "code",
   "execution_count": 102,
   "metadata": {},
   "outputs": [],
   "source": [
    "class Autoencoder(nn.Module):\n",
    "    def __init__(self, embedding_dim):\n",
    "        super().__init__()\n",
    "        self.embedding_dim = embedding_dim\n",
    "        # Encoder compresses 784 pixels -> 128 -> 64 -> embedding_dim\n",
    "        self.encoder = nn.Sequential(\n",
    "            nn.Linear(28 * 28, 128),\n",
    "            nn.ReLU(),\n",
    "            nn.Linear(128, 64),\n",
    "            nn.ReLU(),\n",
    "            nn.Linear(64, self.embedding_dim)\n",
    "        )\n",
    "        # Decoder expands embedding_dim -> 64 -> 128 -> 784 pixels\n",
    "        self.decoder = nn.Sequential(\n",
    "            nn.Linear(self.embedding_dim, 64),\n",
    "            nn.ReLU(),\n",
    "            nn.Linear(64, 128),\n",
    "            nn.ReLU(),\n",
    "            nn.Linear(128, 28 * 28),\n",
    "            nn.Sigmoid()  # Use Sigmoid for pixel values between 0 and 1\n",
    "        )\n",
    "\n",
    "    def forward(self, x):\n",
    "        # Flatten the image for the linear layers\n",
    "        x = x.view(x.size(0), -1)\n",
    "        embedding = self.encoder(x)\n",
    "        reconstructed = self.decoder(embedding)\n",
    "        # Reshape the output to the original image shape\n",
    "        reconstructed = reconstructed.view(x.size(0), 1, 28, 28)\n",
    "        return reconstructed, embedding"
   ]
  },
  {
   "cell_type": "markdown",
   "metadata": {},
   "source": [
    "### Autoencoder training on MNIST"
   ]
  },
  {
   "cell_type": "code",
   "execution_count": 103,
   "metadata": {},
   "outputs": [
    {
     "name": "stderr",
     "output_type": "stream",
     "text": [
      "Epoch 1/10: 100%|██████████| 600/600 [00:02<00:00, 296.04it/s]\n"
     ]
    },
    {
     "name": "stdout",
     "output_type": "stream",
     "text": [
      "Epoch [1/10], Average Loss: 0.2436\n"
     ]
    },
    {
     "name": "stderr",
     "output_type": "stream",
     "text": [
      "Epoch 2/10: 100%|██████████| 600/600 [00:02<00:00, 253.56it/s]\n"
     ]
    },
    {
     "name": "stdout",
     "output_type": "stream",
     "text": [
      "Epoch [2/10], Average Loss: 0.1541\n"
     ]
    },
    {
     "name": "stderr",
     "output_type": "stream",
     "text": [
      "Epoch 3/10: 100%|██████████| 600/600 [00:03<00:00, 185.65it/s]\n"
     ]
    },
    {
     "name": "stdout",
     "output_type": "stream",
     "text": [
      "Epoch [3/10], Average Loss: 0.1351\n"
     ]
    },
    {
     "name": "stderr",
     "output_type": "stream",
     "text": [
      "Epoch 4/10: 100%|██████████| 600/600 [00:03<00:00, 198.42it/s]\n"
     ]
    },
    {
     "name": "stdout",
     "output_type": "stream",
     "text": [
      "Epoch [4/10], Average Loss: 0.1251\n"
     ]
    },
    {
     "name": "stderr",
     "output_type": "stream",
     "text": [
      "Epoch 5/10: 100%|██████████| 600/600 [00:02<00:00, 200.91it/s]\n"
     ]
    },
    {
     "name": "stdout",
     "output_type": "stream",
     "text": [
      "Epoch [5/10], Average Loss: 0.1189\n"
     ]
    },
    {
     "name": "stderr",
     "output_type": "stream",
     "text": [
      "Epoch 6/10: 100%|██████████| 600/600 [00:02<00:00, 232.58it/s]\n"
     ]
    },
    {
     "name": "stdout",
     "output_type": "stream",
     "text": [
      "Epoch [6/10], Average Loss: 0.1142\n"
     ]
    },
    {
     "name": "stderr",
     "output_type": "stream",
     "text": [
      "Epoch 7/10: 100%|██████████| 600/600 [00:02<00:00, 251.51it/s]\n"
     ]
    },
    {
     "name": "stdout",
     "output_type": "stream",
     "text": [
      "Epoch [7/10], Average Loss: 0.1107\n"
     ]
    },
    {
     "name": "stderr",
     "output_type": "stream",
     "text": [
      "Epoch 8/10: 100%|██████████| 600/600 [00:01<00:00, 414.83it/s]\n"
     ]
    },
    {
     "name": "stdout",
     "output_type": "stream",
     "text": [
      "Epoch [8/10], Average Loss: 0.1077\n"
     ]
    },
    {
     "name": "stderr",
     "output_type": "stream",
     "text": [
      "Epoch 9/10: 100%|██████████| 600/600 [00:01<00:00, 418.89it/s]\n"
     ]
    },
    {
     "name": "stdout",
     "output_type": "stream",
     "text": [
      "Epoch [9/10], Average Loss: 0.1054\n"
     ]
    },
    {
     "name": "stderr",
     "output_type": "stream",
     "text": [
      "Epoch 10/10: 100%|██████████| 600/600 [00:01<00:00, 422.96it/s]"
     ]
    },
    {
     "name": "stdout",
     "output_type": "stream",
     "text": [
      "Epoch [10/10], Average Loss: 0.1036\n"
     ]
    },
    {
     "name": "stderr",
     "output_type": "stream",
     "text": [
      "\n"
     ]
    }
   ],
   "source": [
    "ae_model = Autoencoder(EMBEDDING_DIM).to(device)\n",
    "optimizer = torch.optim.Adam(ae_model.parameters(), lr=1e-3)\n",
    "loss_fn = nn.BCELoss()\n",
    "num_epochs = 10\n",
    "\n",
    "ae_model.train()\n",
    "for epoch in range(num_epochs):\n",
    "    total_loss = 0\n",
    "    for images, _ in tqdm(train_loader, desc=f\"Epoch {epoch+1}/{num_epochs}\"):\n",
    "        images = images.to(device)\n",
    "        \n",
    "        # Forward pass\n",
    "        reconstructed, _ = ae_model(images)\n",
    "        loss = loss_fn(reconstructed, images)\n",
    "        \n",
    "        # Backward pass and optimization\n",
    "        optimizer.zero_grad()\n",
    "        loss.backward()\n",
    "        optimizer.step()\n",
    "        \n",
    "        total_loss += loss.item()\n",
    "        \n",
    "    avg_loss = total_loss / len(train_loader)\n",
    "    print(f\"Epoch [{epoch+1}/{num_epochs}], Average Loss: {avg_loss:.4f}\")"
   ]
  },
  {
   "cell_type": "markdown",
   "metadata": {},
   "source": [
    "### Creating a new dataset containing the embeddings and the associated labels\n",
    "\n",
    "We replace the original x with the corresponding embedding from the trained autoencoder"
   ]
  },
  {
   "cell_type": "code",
   "execution_count": 104,
   "metadata": {},
   "outputs": [
    {
     "name": "stderr",
     "output_type": "stream",
     "text": [
      "Generating Embeddings: 100%|██████████| 600/600 [00:01<00:00, 550.80it/s]"
     ]
    },
    {
     "name": "stdout",
     "output_type": "stream",
     "text": [
      "Created embedding dataset with shape: torch.Size([60000, 20])\n"
     ]
    },
    {
     "name": "stderr",
     "output_type": "stream",
     "text": [
      "\n"
     ]
    }
   ],
   "source": [
    "ae_model.eval()\n",
    "train_embeds = []\n",
    "train_labels = []\n",
    "\n",
    "with torch.no_grad():\n",
    "    for images, labels in tqdm(train_loader, desc=\"Generating Embeddings\"):\n",
    "        images = images.to(device)\n",
    "        _, embeddings = ae_model(images)\n",
    "        train_embeds.append(embeddings.cpu())\n",
    "        train_labels.append(labels.cpu())\n",
    "\n",
    "# Concatenate all batches into single tensors\n",
    "train_embeds = torch.cat(train_embeds, dim=0)\n",
    "train_labels = torch.cat(train_labels, dim=0)\n",
    "\n",
    "# Create a new DataLoader for the embeddings\n",
    "embedding_dataset = torch.utils.data.TensorDataset(train_embeds, train_labels)\n",
    "embedding_loader = torch.utils.data.DataLoader(embedding_dataset, batch_size=BATCH_SIZE, shuffle=True)\n",
    "\n",
    "print(f\"Created embedding dataset with shape: {train_embeds.shape}\")"
   ]
  },
  {
   "cell_type": "markdown",
   "metadata": {},
   "source": [
    "### Normalizing Flow training"
   ]
  },
  {
   "cell_type": "markdown",
   "metadata": {},
   "source": [
    "# **📌 RealNVP Normalizing Flow Model**\n",
    "A **Normalizing Flow** is a type of generative model that learns an explicit, invertible transformation between a complex data distribution (like our image embeddings) and a simple base distribution (like a standard normal distribution). The model we use here is **RealNVP (Real-valued Non-Volume Preserving)**.\n",
    "\n",
    "## **🔹 Key Concepts**\n",
    "1️⃣ **Invertible Transformation**: The core idea is a function `f` that can map a data point `x` to a latent point `z` (`z = f(x)`), and can also be perfectly inverted to map `z` back to `x` (`x = f⁻¹(z)`). This allows for both density estimation and generation.\n",
    "\n",
    "2️⃣ **Change of Variables Formula**: Normalizing Flows use this formula to calculate the exact likelihood of a data point. The loss function aims to maximize this likelihood. The key is that the transformation's Jacobian determinant must be easy to compute.\n",
    "\n",
    "3️⃣ **Coupling Layers**: RealNVP achieves an easily computable Jacobian by using special \"coupling layers.\" These layers split the input vector into two parts, transforming one part based on the other, which is left unchanged. By stacking and alternating these layers, the model can learn highly complex transformations.\n",
    "\n",
    "\n",
    "\n",
    "## **📌 Expected Input & Output Shapes**\n",
    "- **Input (Embeddings):** `(batch_size, 20)`\n",
    "- **Conditional Input (Labels):** `(batch_size, 10)`\n",
    "- **Output (Latent `u`):** `(batch_size, 20)`"
   ]
  },
  {
   "cell_type": "code",
   "execution_count": 105,
   "metadata": {},
   "outputs": [],
   "source": [
    "class CouplingLayer(nn.Module):\n",
    "    def __init__(self, input_dim, hidden_dim, mask, condition_dim=10):\n",
    "        super().__init__()\n",
    "        self.mask = mask\n",
    "        \n",
    "        self.s_net = nn.Sequential(\n",
    "            nn.Linear(input_dim // 2 + condition_dim, hidden_dim),\n",
    "            nn.ReLU(),\n",
    "            nn.Linear(hidden_dim, hidden_dim),\n",
    "            nn.ReLU(),\n",
    "            nn.Linear(hidden_dim, input_dim // 2)\n",
    "        )\n",
    "        self.t_net = nn.Sequential(\n",
    "            nn.Linear(input_dim // 2 + condition_dim, hidden_dim),\n",
    "            nn.ReLU(),\n",
    "            nn.Linear(hidden_dim, hidden_dim),\n",
    "            nn.ReLU(),\n",
    "            nn.Linear(hidden_dim, input_dim // 2)\n",
    "        )\n",
    "\n",
    "    def forward(self, x, condition):\n",
    "        x_a = x[:, self.mask.bool()]\n",
    "        x_b = x[:, ~self.mask.bool()]\n",
    "\n",
    "        s_t_input = torch.cat([x_a, condition], dim=1)\n",
    "        \n",
    "        # Get s and t\n",
    "        s_raw = self.s_net(s_t_input)\n",
    "        s = torch.tanh(s_raw) # THIS IS THE FIX: Constrain s to prevent explosion\n",
    "        t = self.t_net(s_t_input)\n",
    "        \n",
    "        # Apply the transformation\n",
    "        y_b = x_b * torch.exp(s) + t\n",
    "        \n",
    "        y = torch.empty_like(x)\n",
    "        y[:, self.mask.bool()] = x_a\n",
    "        y[:, ~self.mask.bool()] = y_b\n",
    "        \n",
    "        log_det_jacobian = s.sum(dim=1)\n",
    "        return y, log_det_jacobian\n",
    "\n",
    "    def inverse(self, y, condition):\n",
    "        y_a = y[:, self.mask.bool()]\n",
    "        y_b = y[:, ~self.mask.bool()]\n",
    "        \n",
    "        s_t_input = torch.cat([y_a, condition], dim=1)\n",
    "\n",
    "        # Get s and t\n",
    "        s_raw = self.s_net(s_t_input)\n",
    "        s = torch.tanh(s_raw) # THIS IS THE FIX: Also required for the inverse\n",
    "        t = self.t_net(s_t_input)\n",
    "\n",
    "        # Reverse the transformation\n",
    "        x_b = (y_b - t) * torch.exp(-s)\n",
    "        \n",
    "        x = torch.empty_like(y)\n",
    "        x[:, self.mask.bool()] = y_a\n",
    "        x[:, ~self.mask.bool()] = x_b\n",
    "        return x\n",
    "\n",
    "class RealNVP(nn.Module):\n",
    "    def __init__(self, input_dim, hidden_dim, num_layers):\n",
    "        super().__init__()\n",
    "        self.prior = distributions.MultivariateNormal(torch.zeros(input_dim).to(device), torch.eye(input_dim).to(device))\n",
    "        \n",
    "        masks = [self.create_mask(input_dim, i) for i in range(num_layers)]\n",
    "        \n",
    "        self.layers = nn.ModuleList([\n",
    "            CouplingLayer(input_dim, hidden_dim, mask) for mask in masks\n",
    "        ])\n",
    "\n",
    "    def create_mask(self, dim, variation):\n",
    "        mask = torch.arange(dim) % 2\n",
    "        return (mask if variation % 2 == 0 else 1 - mask).float().to(device)\n",
    "\n",
    "    def forward(self, x, condition):\n",
    "        log_det_jacobian = 0\n",
    "        for layer in self.layers:\n",
    "            x, ldj = layer(x, condition)\n",
    "            log_det_jacobian += ldj\n",
    "        return x, log_det_jacobian\n",
    "\n",
    "    def inverse(self, z, condition):\n",
    "        for layer in reversed(self.layers):\n",
    "            z = layer.inverse(z, condition)\n",
    "        return z\n",
    "\n",
    "    def sample(self, num_samples, condition):\n",
    "        z = self.prior.sample((num_samples,))\n",
    "        return self.inverse(z, condition)"
   ]
  },
  {
   "cell_type": "code",
   "execution_count": 106,
   "metadata": {},
   "outputs": [
    {
     "name": "stderr",
     "output_type": "stream",
     "text": [
      "Flow Epoch 1/100: 100%|██████████| 600/600 [00:03<00:00, 195.41it/s]\n"
     ]
    },
    {
     "name": "stdout",
     "output_type": "stream",
     "text": [
      "Epoch [1/100], Average Loss: 41.8195\n"
     ]
    },
    {
     "name": "stderr",
     "output_type": "stream",
     "text": [
      "Flow Epoch 2/100: 100%|██████████| 600/600 [00:03<00:00, 174.92it/s]\n"
     ]
    },
    {
     "name": "stdout",
     "output_type": "stream",
     "text": [
      "Epoch [2/100], Average Loss: 32.6137\n"
     ]
    },
    {
     "name": "stderr",
     "output_type": "stream",
     "text": [
      "Flow Epoch 3/100: 100%|██████████| 600/600 [00:04<00:00, 146.95it/s]\n"
     ]
    },
    {
     "name": "stdout",
     "output_type": "stream",
     "text": [
      "Epoch [3/100], Average Loss: 30.9325\n"
     ]
    },
    {
     "name": "stderr",
     "output_type": "stream",
     "text": [
      "Flow Epoch 4/100: 100%|██████████| 600/600 [00:04<00:00, 143.53it/s]\n"
     ]
    },
    {
     "name": "stdout",
     "output_type": "stream",
     "text": [
      "Epoch [4/100], Average Loss: 29.9377\n"
     ]
    },
    {
     "name": "stderr",
     "output_type": "stream",
     "text": [
      "Flow Epoch 5/100: 100%|██████████| 600/600 [00:04<00:00, 149.91it/s]\n"
     ]
    },
    {
     "name": "stdout",
     "output_type": "stream",
     "text": [
      "Epoch [5/100], Average Loss: 29.3021\n"
     ]
    },
    {
     "name": "stderr",
     "output_type": "stream",
     "text": [
      "Flow Epoch 6/100: 100%|██████████| 600/600 [00:03<00:00, 187.29it/s]\n"
     ]
    },
    {
     "name": "stdout",
     "output_type": "stream",
     "text": [
      "Epoch [6/100], Average Loss: 28.7606\n"
     ]
    },
    {
     "name": "stderr",
     "output_type": "stream",
     "text": [
      "Flow Epoch 7/100: 100%|██████████| 600/600 [00:02<00:00, 215.87it/s]\n"
     ]
    },
    {
     "name": "stdout",
     "output_type": "stream",
     "text": [
      "Epoch [7/100], Average Loss: 28.3785\n"
     ]
    },
    {
     "name": "stderr",
     "output_type": "stream",
     "text": [
      "Flow Epoch 8/100: 100%|██████████| 600/600 [00:02<00:00, 209.17it/s]\n"
     ]
    },
    {
     "name": "stdout",
     "output_type": "stream",
     "text": [
      "Epoch [8/100], Average Loss: 28.0789\n"
     ]
    },
    {
     "name": "stderr",
     "output_type": "stream",
     "text": [
      "Flow Epoch 9/100: 100%|██████████| 600/600 [00:03<00:00, 176.41it/s]\n"
     ]
    },
    {
     "name": "stdout",
     "output_type": "stream",
     "text": [
      "Epoch [9/100], Average Loss: 27.8069\n"
     ]
    },
    {
     "name": "stderr",
     "output_type": "stream",
     "text": [
      "Flow Epoch 10/100: 100%|██████████| 600/600 [00:04<00:00, 141.43it/s]\n"
     ]
    },
    {
     "name": "stdout",
     "output_type": "stream",
     "text": [
      "Epoch [10/100], Average Loss: 27.5226\n"
     ]
    },
    {
     "name": "stderr",
     "output_type": "stream",
     "text": [
      "Flow Epoch 11/100: 100%|██████████| 600/600 [00:04<00:00, 146.77it/s]\n"
     ]
    },
    {
     "name": "stdout",
     "output_type": "stream",
     "text": [
      "Epoch [11/100], Average Loss: 27.3168\n"
     ]
    },
    {
     "name": "stderr",
     "output_type": "stream",
     "text": [
      "Flow Epoch 12/100: 100%|██████████| 600/600 [00:04<00:00, 136.76it/s]\n"
     ]
    },
    {
     "name": "stdout",
     "output_type": "stream",
     "text": [
      "Epoch [12/100], Average Loss: 27.1072\n"
     ]
    },
    {
     "name": "stderr",
     "output_type": "stream",
     "text": [
      "Flow Epoch 13/100: 100%|██████████| 600/600 [00:03<00:00, 178.30it/s]\n"
     ]
    },
    {
     "name": "stdout",
     "output_type": "stream",
     "text": [
      "Epoch [13/100], Average Loss: 26.9265\n"
     ]
    },
    {
     "name": "stderr",
     "output_type": "stream",
     "text": [
      "Flow Epoch 14/100: 100%|██████████| 600/600 [00:02<00:00, 219.48it/s]\n"
     ]
    },
    {
     "name": "stdout",
     "output_type": "stream",
     "text": [
      "Epoch [14/100], Average Loss: 26.7690\n"
     ]
    },
    {
     "name": "stderr",
     "output_type": "stream",
     "text": [
      "Flow Epoch 15/100: 100%|██████████| 600/600 [00:02<00:00, 204.32it/s]\n"
     ]
    },
    {
     "name": "stdout",
     "output_type": "stream",
     "text": [
      "Epoch [15/100], Average Loss: 26.6610\n"
     ]
    },
    {
     "name": "stderr",
     "output_type": "stream",
     "text": [
      "Flow Epoch 16/100: 100%|██████████| 600/600 [00:03<00:00, 191.67it/s]\n"
     ]
    },
    {
     "name": "stdout",
     "output_type": "stream",
     "text": [
      "Epoch [16/100], Average Loss: 26.4815\n"
     ]
    },
    {
     "name": "stderr",
     "output_type": "stream",
     "text": [
      "Flow Epoch 17/100: 100%|██████████| 600/600 [00:04<00:00, 127.24it/s]\n"
     ]
    },
    {
     "name": "stdout",
     "output_type": "stream",
     "text": [
      "Epoch [17/100], Average Loss: 26.3888\n"
     ]
    },
    {
     "name": "stderr",
     "output_type": "stream",
     "text": [
      "Flow Epoch 18/100: 100%|██████████| 600/600 [00:04<00:00, 124.93it/s]\n"
     ]
    },
    {
     "name": "stdout",
     "output_type": "stream",
     "text": [
      "Epoch [18/100], Average Loss: 26.2351\n"
     ]
    },
    {
     "name": "stderr",
     "output_type": "stream",
     "text": [
      "Flow Epoch 19/100: 100%|██████████| 600/600 [00:04<00:00, 139.26it/s]\n"
     ]
    },
    {
     "name": "stdout",
     "output_type": "stream",
     "text": [
      "Epoch [19/100], Average Loss: 26.1815\n"
     ]
    },
    {
     "name": "stderr",
     "output_type": "stream",
     "text": [
      "Flow Epoch 20/100: 100%|██████████| 600/600 [00:03<00:00, 170.86it/s]\n"
     ]
    },
    {
     "name": "stdout",
     "output_type": "stream",
     "text": [
      "Epoch [20/100], Average Loss: 26.0133\n"
     ]
    },
    {
     "name": "stderr",
     "output_type": "stream",
     "text": [
      "Flow Epoch 21/100: 100%|██████████| 600/600 [00:03<00:00, 190.89it/s]\n"
     ]
    },
    {
     "name": "stdout",
     "output_type": "stream",
     "text": [
      "Epoch [21/100], Average Loss: 25.9481\n"
     ]
    },
    {
     "name": "stderr",
     "output_type": "stream",
     "text": [
      "Flow Epoch 22/100: 100%|██████████| 600/600 [00:02<00:00, 212.46it/s]\n"
     ]
    },
    {
     "name": "stdout",
     "output_type": "stream",
     "text": [
      "Epoch [22/100], Average Loss: 25.8157\n"
     ]
    },
    {
     "name": "stderr",
     "output_type": "stream",
     "text": [
      "Flow Epoch 23/100: 100%|██████████| 600/600 [00:03<00:00, 179.68it/s]\n"
     ]
    },
    {
     "name": "stdout",
     "output_type": "stream",
     "text": [
      "Epoch [23/100], Average Loss: 25.7330\n"
     ]
    },
    {
     "name": "stderr",
     "output_type": "stream",
     "text": [
      "Flow Epoch 24/100: 100%|██████████| 600/600 [00:04<00:00, 146.80it/s]\n"
     ]
    },
    {
     "name": "stdout",
     "output_type": "stream",
     "text": [
      "Epoch [24/100], Average Loss: 25.6725\n"
     ]
    },
    {
     "name": "stderr",
     "output_type": "stream",
     "text": [
      "Flow Epoch 25/100: 100%|██████████| 600/600 [00:04<00:00, 142.30it/s]\n"
     ]
    },
    {
     "name": "stdout",
     "output_type": "stream",
     "text": [
      "Epoch [25/100], Average Loss: 25.6113\n"
     ]
    },
    {
     "name": "stderr",
     "output_type": "stream",
     "text": [
      "Flow Epoch 26/100: 100%|██████████| 600/600 [00:04<00:00, 135.99it/s]\n"
     ]
    },
    {
     "name": "stdout",
     "output_type": "stream",
     "text": [
      "Epoch [26/100], Average Loss: 25.5223\n"
     ]
    },
    {
     "name": "stderr",
     "output_type": "stream",
     "text": [
      "Flow Epoch 27/100: 100%|██████████| 600/600 [00:03<00:00, 168.81it/s]\n"
     ]
    },
    {
     "name": "stdout",
     "output_type": "stream",
     "text": [
      "Epoch [27/100], Average Loss: 25.4587\n"
     ]
    },
    {
     "name": "stderr",
     "output_type": "stream",
     "text": [
      "Flow Epoch 28/100: 100%|██████████| 600/600 [00:03<00:00, 198.63it/s]\n"
     ]
    },
    {
     "name": "stdout",
     "output_type": "stream",
     "text": [
      "Epoch [28/100], Average Loss: 25.3892\n"
     ]
    },
    {
     "name": "stderr",
     "output_type": "stream",
     "text": [
      "Flow Epoch 29/100: 100%|██████████| 600/600 [00:02<00:00, 211.61it/s]\n"
     ]
    },
    {
     "name": "stdout",
     "output_type": "stream",
     "text": [
      "Epoch [29/100], Average Loss: 25.3179\n"
     ]
    },
    {
     "name": "stderr",
     "output_type": "stream",
     "text": [
      "Flow Epoch 30/100: 100%|██████████| 600/600 [00:02<00:00, 211.37it/s]\n"
     ]
    },
    {
     "name": "stdout",
     "output_type": "stream",
     "text": [
      "Epoch [30/100], Average Loss: 25.2224\n"
     ]
    },
    {
     "name": "stderr",
     "output_type": "stream",
     "text": [
      "Flow Epoch 31/100: 100%|██████████| 600/600 [00:04<00:00, 133.49it/s]\n"
     ]
    },
    {
     "name": "stdout",
     "output_type": "stream",
     "text": [
      "Epoch [31/100], Average Loss: 25.1931\n"
     ]
    },
    {
     "name": "stderr",
     "output_type": "stream",
     "text": [
      "Flow Epoch 32/100: 100%|██████████| 600/600 [00:04<00:00, 143.60it/s]\n"
     ]
    },
    {
     "name": "stdout",
     "output_type": "stream",
     "text": [
      "Epoch [32/100], Average Loss: 25.1266\n"
     ]
    },
    {
     "name": "stderr",
     "output_type": "stream",
     "text": [
      "Flow Epoch 33/100: 100%|██████████| 600/600 [00:04<00:00, 145.35it/s]\n"
     ]
    },
    {
     "name": "stdout",
     "output_type": "stream",
     "text": [
      "Epoch [33/100], Average Loss: 25.0643\n"
     ]
    },
    {
     "name": "stderr",
     "output_type": "stream",
     "text": [
      "Flow Epoch 34/100: 100%|██████████| 600/600 [00:03<00:00, 159.04it/s]\n"
     ]
    },
    {
     "name": "stdout",
     "output_type": "stream",
     "text": [
      "Epoch [34/100], Average Loss: 24.9873\n"
     ]
    },
    {
     "name": "stderr",
     "output_type": "stream",
     "text": [
      "Flow Epoch 35/100: 100%|██████████| 600/600 [00:02<00:00, 212.04it/s]\n"
     ]
    },
    {
     "name": "stdout",
     "output_type": "stream",
     "text": [
      "Epoch [35/100], Average Loss: 24.9308\n"
     ]
    },
    {
     "name": "stderr",
     "output_type": "stream",
     "text": [
      "Flow Epoch 36/100: 100%|██████████| 600/600 [00:02<00:00, 210.40it/s]\n"
     ]
    },
    {
     "name": "stdout",
     "output_type": "stream",
     "text": [
      "Epoch [36/100], Average Loss: 24.8934\n"
     ]
    },
    {
     "name": "stderr",
     "output_type": "stream",
     "text": [
      "Flow Epoch 37/100: 100%|██████████| 600/600 [00:03<00:00, 199.46it/s]\n"
     ]
    },
    {
     "name": "stdout",
     "output_type": "stream",
     "text": [
      "Epoch [37/100], Average Loss: 24.8313\n"
     ]
    },
    {
     "name": "stderr",
     "output_type": "stream",
     "text": [
      "Flow Epoch 38/100: 100%|██████████| 600/600 [00:03<00:00, 150.92it/s]\n"
     ]
    },
    {
     "name": "stdout",
     "output_type": "stream",
     "text": [
      "Epoch [38/100], Average Loss: 24.7805\n"
     ]
    },
    {
     "name": "stderr",
     "output_type": "stream",
     "text": [
      "Flow Epoch 39/100: 100%|██████████| 600/600 [00:04<00:00, 145.57it/s]\n"
     ]
    },
    {
     "name": "stdout",
     "output_type": "stream",
     "text": [
      "Epoch [39/100], Average Loss: 24.7476\n"
     ]
    },
    {
     "name": "stderr",
     "output_type": "stream",
     "text": [
      "Flow Epoch 40/100: 100%|██████████| 600/600 [00:04<00:00, 146.49it/s]\n"
     ]
    },
    {
     "name": "stdout",
     "output_type": "stream",
     "text": [
      "Epoch [40/100], Average Loss: 24.6750\n"
     ]
    },
    {
     "name": "stderr",
     "output_type": "stream",
     "text": [
      "Flow Epoch 41/100: 100%|██████████| 600/600 [00:03<00:00, 155.81it/s]\n"
     ]
    },
    {
     "name": "stdout",
     "output_type": "stream",
     "text": [
      "Epoch [41/100], Average Loss: 24.6424\n"
     ]
    },
    {
     "name": "stderr",
     "output_type": "stream",
     "text": [
      "Flow Epoch 42/100: 100%|██████████| 600/600 [00:02<00:00, 210.04it/s]\n"
     ]
    },
    {
     "name": "stdout",
     "output_type": "stream",
     "text": [
      "Epoch [42/100], Average Loss: 24.5845\n"
     ]
    },
    {
     "name": "stderr",
     "output_type": "stream",
     "text": [
      "Flow Epoch 43/100: 100%|██████████| 600/600 [00:02<00:00, 210.12it/s]\n"
     ]
    },
    {
     "name": "stdout",
     "output_type": "stream",
     "text": [
      "Epoch [43/100], Average Loss: 24.5508\n"
     ]
    },
    {
     "name": "stderr",
     "output_type": "stream",
     "text": [
      "Flow Epoch 44/100: 100%|██████████| 600/600 [00:02<00:00, 206.68it/s]\n"
     ]
    },
    {
     "name": "stdout",
     "output_type": "stream",
     "text": [
      "Epoch [44/100], Average Loss: 24.5055\n"
     ]
    },
    {
     "name": "stderr",
     "output_type": "stream",
     "text": [
      "Flow Epoch 45/100: 100%|██████████| 600/600 [00:03<00:00, 163.41it/s]\n"
     ]
    },
    {
     "name": "stdout",
     "output_type": "stream",
     "text": [
      "Epoch [45/100], Average Loss: 24.4412\n"
     ]
    },
    {
     "name": "stderr",
     "output_type": "stream",
     "text": [
      "Flow Epoch 46/100: 100%|██████████| 600/600 [00:04<00:00, 136.19it/s]\n"
     ]
    },
    {
     "name": "stdout",
     "output_type": "stream",
     "text": [
      "Epoch [46/100], Average Loss: 24.4339\n"
     ]
    },
    {
     "name": "stderr",
     "output_type": "stream",
     "text": [
      "Flow Epoch 47/100: 100%|██████████| 600/600 [00:04<00:00, 142.17it/s]\n"
     ]
    },
    {
     "name": "stdout",
     "output_type": "stream",
     "text": [
      "Epoch [47/100], Average Loss: 24.3878\n"
     ]
    },
    {
     "name": "stderr",
     "output_type": "stream",
     "text": [
      "Flow Epoch 48/100: 100%|██████████| 600/600 [00:04<00:00, 146.32it/s]\n"
     ]
    },
    {
     "name": "stdout",
     "output_type": "stream",
     "text": [
      "Epoch [48/100], Average Loss: 24.3216\n"
     ]
    },
    {
     "name": "stderr",
     "output_type": "stream",
     "text": [
      "Flow Epoch 49/100: 100%|██████████| 600/600 [00:02<00:00, 203.31it/s]\n"
     ]
    },
    {
     "name": "stdout",
     "output_type": "stream",
     "text": [
      "Epoch [49/100], Average Loss: 24.3065\n"
     ]
    },
    {
     "name": "stderr",
     "output_type": "stream",
     "text": [
      "Flow Epoch 50/100: 100%|██████████| 600/600 [00:03<00:00, 197.26it/s]\n"
     ]
    },
    {
     "name": "stdout",
     "output_type": "stream",
     "text": [
      "Epoch [50/100], Average Loss: 24.3123\n"
     ]
    },
    {
     "name": "stderr",
     "output_type": "stream",
     "text": [
      "Flow Epoch 51/100: 100%|██████████| 600/600 [00:02<00:00, 214.15it/s]\n"
     ]
    },
    {
     "name": "stdout",
     "output_type": "stream",
     "text": [
      "Epoch [51/100], Average Loss: 24.2453\n"
     ]
    },
    {
     "name": "stderr",
     "output_type": "stream",
     "text": [
      "Flow Epoch 52/100: 100%|██████████| 600/600 [00:03<00:00, 171.47it/s]\n"
     ]
    },
    {
     "name": "stdout",
     "output_type": "stream",
     "text": [
      "Epoch [52/100], Average Loss: 24.1893\n"
     ]
    },
    {
     "name": "stderr",
     "output_type": "stream",
     "text": [
      "Flow Epoch 53/100: 100%|██████████| 600/600 [00:04<00:00, 146.33it/s]\n"
     ]
    },
    {
     "name": "stdout",
     "output_type": "stream",
     "text": [
      "Epoch [53/100], Average Loss: 24.1431\n"
     ]
    },
    {
     "name": "stderr",
     "output_type": "stream",
     "text": [
      "Flow Epoch 54/100: 100%|██████████| 600/600 [00:04<00:00, 142.24it/s]\n"
     ]
    },
    {
     "name": "stdout",
     "output_type": "stream",
     "text": [
      "Epoch [54/100], Average Loss: 24.1525\n"
     ]
    },
    {
     "name": "stderr",
     "output_type": "stream",
     "text": [
      "Flow Epoch 55/100: 100%|██████████| 600/600 [00:04<00:00, 143.87it/s]\n"
     ]
    },
    {
     "name": "stdout",
     "output_type": "stream",
     "text": [
      "Epoch [55/100], Average Loss: 24.0782\n"
     ]
    },
    {
     "name": "stderr",
     "output_type": "stream",
     "text": [
      "Flow Epoch 56/100: 100%|██████████| 600/600 [00:03<00:00, 172.65it/s]\n"
     ]
    },
    {
     "name": "stdout",
     "output_type": "stream",
     "text": [
      "Epoch [56/100], Average Loss: 24.0697\n"
     ]
    },
    {
     "name": "stderr",
     "output_type": "stream",
     "text": [
      "Flow Epoch 57/100: 100%|██████████| 600/600 [00:02<00:00, 211.47it/s]\n"
     ]
    },
    {
     "name": "stdout",
     "output_type": "stream",
     "text": [
      "Epoch [57/100], Average Loss: 24.0575\n"
     ]
    },
    {
     "name": "stderr",
     "output_type": "stream",
     "text": [
      "Flow Epoch 58/100: 100%|██████████| 600/600 [00:02<00:00, 205.39it/s]\n"
     ]
    },
    {
     "name": "stdout",
     "output_type": "stream",
     "text": [
      "Epoch [58/100], Average Loss: 23.9888\n"
     ]
    },
    {
     "name": "stderr",
     "output_type": "stream",
     "text": [
      "Flow Epoch 59/100: 100%|██████████| 600/600 [00:03<00:00, 191.13it/s]\n"
     ]
    },
    {
     "name": "stdout",
     "output_type": "stream",
     "text": [
      "Epoch [59/100], Average Loss: 24.0067\n"
     ]
    },
    {
     "name": "stderr",
     "output_type": "stream",
     "text": [
      "Flow Epoch 60/100: 100%|██████████| 600/600 [00:04<00:00, 148.95it/s]\n"
     ]
    },
    {
     "name": "stdout",
     "output_type": "stream",
     "text": [
      "Epoch [60/100], Average Loss: 23.9375\n"
     ]
    },
    {
     "name": "stderr",
     "output_type": "stream",
     "text": [
      "Flow Epoch 61/100: 100%|██████████| 600/600 [00:04<00:00, 144.77it/s]\n"
     ]
    },
    {
     "name": "stdout",
     "output_type": "stream",
     "text": [
      "Epoch [61/100], Average Loss: 23.9287\n"
     ]
    },
    {
     "name": "stderr",
     "output_type": "stream",
     "text": [
      "Flow Epoch 62/100: 100%|██████████| 600/600 [00:04<00:00, 146.24it/s]\n"
     ]
    },
    {
     "name": "stdout",
     "output_type": "stream",
     "text": [
      "Epoch [62/100], Average Loss: 23.9026\n"
     ]
    },
    {
     "name": "stderr",
     "output_type": "stream",
     "text": [
      "Flow Epoch 63/100: 100%|██████████| 600/600 [00:03<00:00, 171.65it/s]\n"
     ]
    },
    {
     "name": "stdout",
     "output_type": "stream",
     "text": [
      "Epoch [63/100], Average Loss: 23.8749\n"
     ]
    },
    {
     "name": "stderr",
     "output_type": "stream",
     "text": [
      "Flow Epoch 64/100: 100%|██████████| 600/600 [00:02<00:00, 207.84it/s]\n"
     ]
    },
    {
     "name": "stdout",
     "output_type": "stream",
     "text": [
      "Epoch [64/100], Average Loss: 23.8128\n"
     ]
    },
    {
     "name": "stderr",
     "output_type": "stream",
     "text": [
      "Flow Epoch 65/100: 100%|██████████| 600/600 [00:02<00:00, 210.65it/s]\n"
     ]
    },
    {
     "name": "stdout",
     "output_type": "stream",
     "text": [
      "Epoch [65/100], Average Loss: 23.8203\n"
     ]
    },
    {
     "name": "stderr",
     "output_type": "stream",
     "text": [
      "Flow Epoch 66/100: 100%|██████████| 600/600 [00:03<00:00, 169.64it/s]\n"
     ]
    },
    {
     "name": "stdout",
     "output_type": "stream",
     "text": [
      "Epoch [66/100], Average Loss: 23.7460\n"
     ]
    },
    {
     "name": "stderr",
     "output_type": "stream",
     "text": [
      "Flow Epoch 67/100: 100%|██████████| 600/600 [00:03<00:00, 152.00it/s]\n"
     ]
    },
    {
     "name": "stdout",
     "output_type": "stream",
     "text": [
      "Epoch [67/100], Average Loss: 23.7857\n"
     ]
    },
    {
     "name": "stderr",
     "output_type": "stream",
     "text": [
      "Flow Epoch 68/100: 100%|██████████| 600/600 [00:04<00:00, 132.51it/s]\n"
     ]
    },
    {
     "name": "stdout",
     "output_type": "stream",
     "text": [
      "Epoch [68/100], Average Loss: 23.7023\n"
     ]
    },
    {
     "name": "stderr",
     "output_type": "stream",
     "text": [
      "Flow Epoch 69/100: 100%|██████████| 600/600 [00:04<00:00, 144.54it/s]\n"
     ]
    },
    {
     "name": "stdout",
     "output_type": "stream",
     "text": [
      "Epoch [69/100], Average Loss: 23.7058\n"
     ]
    },
    {
     "name": "stderr",
     "output_type": "stream",
     "text": [
      "Flow Epoch 70/100: 100%|██████████| 600/600 [00:03<00:00, 155.16it/s]\n"
     ]
    },
    {
     "name": "stdout",
     "output_type": "stream",
     "text": [
      "Epoch [70/100], Average Loss: 23.6744\n"
     ]
    },
    {
     "name": "stderr",
     "output_type": "stream",
     "text": [
      "Flow Epoch 71/100: 100%|██████████| 600/600 [00:02<00:00, 214.03it/s]\n"
     ]
    },
    {
     "name": "stdout",
     "output_type": "stream",
     "text": [
      "Epoch [71/100], Average Loss: 23.6591\n"
     ]
    },
    {
     "name": "stderr",
     "output_type": "stream",
     "text": [
      "Flow Epoch 72/100: 100%|██████████| 600/600 [00:02<00:00, 205.31it/s]\n"
     ]
    },
    {
     "name": "stdout",
     "output_type": "stream",
     "text": [
      "Epoch [72/100], Average Loss: 23.6581\n"
     ]
    },
    {
     "name": "stderr",
     "output_type": "stream",
     "text": [
      "Flow Epoch 73/100: 100%|██████████| 600/600 [00:02<00:00, 211.93it/s]\n"
     ]
    },
    {
     "name": "stdout",
     "output_type": "stream",
     "text": [
      "Epoch [73/100], Average Loss: 23.5956\n"
     ]
    },
    {
     "name": "stderr",
     "output_type": "stream",
     "text": [
      "Flow Epoch 74/100: 100%|██████████| 600/600 [00:03<00:00, 150.49it/s]\n"
     ]
    },
    {
     "name": "stdout",
     "output_type": "stream",
     "text": [
      "Epoch [74/100], Average Loss: 23.5560\n"
     ]
    },
    {
     "name": "stderr",
     "output_type": "stream",
     "text": [
      "Flow Epoch 75/100: 100%|██████████| 600/600 [00:04<00:00, 145.17it/s]\n"
     ]
    },
    {
     "name": "stdout",
     "output_type": "stream",
     "text": [
      "Epoch [75/100], Average Loss: 23.5558\n"
     ]
    },
    {
     "name": "stderr",
     "output_type": "stream",
     "text": [
      "Flow Epoch 76/100: 100%|██████████| 600/600 [00:04<00:00, 146.97it/s]\n"
     ]
    },
    {
     "name": "stdout",
     "output_type": "stream",
     "text": [
      "Epoch [76/100], Average Loss: 23.5731\n"
     ]
    },
    {
     "name": "stderr",
     "output_type": "stream",
     "text": [
      "Flow Epoch 77/100: 100%|██████████| 600/600 [00:03<00:00, 150.01it/s]\n"
     ]
    },
    {
     "name": "stdout",
     "output_type": "stream",
     "text": [
      "Epoch [77/100], Average Loss: 23.5113\n"
     ]
    },
    {
     "name": "stderr",
     "output_type": "stream",
     "text": [
      "Flow Epoch 78/100: 100%|██████████| 600/600 [00:02<00:00, 205.76it/s]\n"
     ]
    },
    {
     "name": "stdout",
     "output_type": "stream",
     "text": [
      "Epoch [78/100], Average Loss: 23.4844\n"
     ]
    },
    {
     "name": "stderr",
     "output_type": "stream",
     "text": [
      "Flow Epoch 79/100: 100%|██████████| 600/600 [00:02<00:00, 207.28it/s]\n"
     ]
    },
    {
     "name": "stdout",
     "output_type": "stream",
     "text": [
      "Epoch [79/100], Average Loss: 23.4686\n"
     ]
    },
    {
     "name": "stderr",
     "output_type": "stream",
     "text": [
      "Flow Epoch 80/100: 100%|██████████| 600/600 [00:02<00:00, 207.72it/s]\n"
     ]
    },
    {
     "name": "stdout",
     "output_type": "stream",
     "text": [
      "Epoch [80/100], Average Loss: 23.4525\n"
     ]
    },
    {
     "name": "stderr",
     "output_type": "stream",
     "text": [
      "Flow Epoch 81/100: 100%|██████████| 600/600 [00:03<00:00, 163.59it/s]\n"
     ]
    },
    {
     "name": "stdout",
     "output_type": "stream",
     "text": [
      "Epoch [81/100], Average Loss: 23.4153\n"
     ]
    },
    {
     "name": "stderr",
     "output_type": "stream",
     "text": [
      "Flow Epoch 82/100: 100%|██████████| 600/600 [00:04<00:00, 139.77it/s]\n"
     ]
    },
    {
     "name": "stdout",
     "output_type": "stream",
     "text": [
      "Epoch [82/100], Average Loss: 23.4297\n"
     ]
    },
    {
     "name": "stderr",
     "output_type": "stream",
     "text": [
      "Flow Epoch 83/100: 100%|██████████| 600/600 [00:04<00:00, 142.11it/s]\n"
     ]
    },
    {
     "name": "stdout",
     "output_type": "stream",
     "text": [
      "Epoch [83/100], Average Loss: 23.3664\n"
     ]
    },
    {
     "name": "stderr",
     "output_type": "stream",
     "text": [
      "Flow Epoch 84/100: 100%|██████████| 600/600 [00:04<00:00, 143.13it/s]\n"
     ]
    },
    {
     "name": "stdout",
     "output_type": "stream",
     "text": [
      "Epoch [84/100], Average Loss: 23.3666\n"
     ]
    },
    {
     "name": "stderr",
     "output_type": "stream",
     "text": [
      "Flow Epoch 85/100: 100%|██████████| 600/600 [00:03<00:00, 199.33it/s]\n"
     ]
    },
    {
     "name": "stdout",
     "output_type": "stream",
     "text": [
      "Epoch [85/100], Average Loss: 23.3457\n"
     ]
    },
    {
     "name": "stderr",
     "output_type": "stream",
     "text": [
      "Flow Epoch 86/100: 100%|██████████| 600/600 [00:02<00:00, 212.33it/s]\n"
     ]
    },
    {
     "name": "stdout",
     "output_type": "stream",
     "text": [
      "Epoch [86/100], Average Loss: 23.3549\n"
     ]
    },
    {
     "name": "stderr",
     "output_type": "stream",
     "text": [
      "Flow Epoch 87/100: 100%|██████████| 600/600 [00:02<00:00, 206.23it/s]\n"
     ]
    },
    {
     "name": "stdout",
     "output_type": "stream",
     "text": [
      "Epoch [87/100], Average Loss: 23.3197\n"
     ]
    },
    {
     "name": "stderr",
     "output_type": "stream",
     "text": [
      "Flow Epoch 88/100: 100%|██████████| 600/600 [00:03<00:00, 173.83it/s]\n"
     ]
    },
    {
     "name": "stdout",
     "output_type": "stream",
     "text": [
      "Epoch [88/100], Average Loss: 23.2608\n"
     ]
    },
    {
     "name": "stderr",
     "output_type": "stream",
     "text": [
      "Flow Epoch 89/100: 100%|██████████| 600/600 [00:04<00:00, 141.96it/s]\n"
     ]
    },
    {
     "name": "stdout",
     "output_type": "stream",
     "text": [
      "Epoch [89/100], Average Loss: 23.2753\n"
     ]
    },
    {
     "name": "stderr",
     "output_type": "stream",
     "text": [
      "Flow Epoch 90/100: 100%|██████████| 600/600 [00:04<00:00, 138.11it/s]\n"
     ]
    },
    {
     "name": "stdout",
     "output_type": "stream",
     "text": [
      "Epoch [90/100], Average Loss: 23.2146\n"
     ]
    },
    {
     "name": "stderr",
     "output_type": "stream",
     "text": [
      "Flow Epoch 91/100: 100%|██████████| 600/600 [00:04<00:00, 141.26it/s]\n"
     ]
    },
    {
     "name": "stdout",
     "output_type": "stream",
     "text": [
      "Epoch [91/100], Average Loss: 23.2089\n"
     ]
    },
    {
     "name": "stderr",
     "output_type": "stream",
     "text": [
      "Flow Epoch 92/100: 100%|██████████| 600/600 [00:03<00:00, 190.56it/s]\n"
     ]
    },
    {
     "name": "stdout",
     "output_type": "stream",
     "text": [
      "Epoch [92/100], Average Loss: 23.1964\n"
     ]
    },
    {
     "name": "stderr",
     "output_type": "stream",
     "text": [
      "Flow Epoch 93/100: 100%|██████████| 600/600 [00:02<00:00, 202.78it/s]\n"
     ]
    },
    {
     "name": "stdout",
     "output_type": "stream",
     "text": [
      "Epoch [93/100], Average Loss: 23.1992\n"
     ]
    },
    {
     "name": "stderr",
     "output_type": "stream",
     "text": [
      "Flow Epoch 94/100: 100%|██████████| 600/600 [00:02<00:00, 208.29it/s]\n"
     ]
    },
    {
     "name": "stdout",
     "output_type": "stream",
     "text": [
      "Epoch [94/100], Average Loss: 23.1708\n"
     ]
    },
    {
     "name": "stderr",
     "output_type": "stream",
     "text": [
      "Flow Epoch 95/100: 100%|██████████| 600/600 [00:03<00:00, 191.61it/s]\n"
     ]
    },
    {
     "name": "stdout",
     "output_type": "stream",
     "text": [
      "Epoch [95/100], Average Loss: 23.1189\n"
     ]
    },
    {
     "name": "stderr",
     "output_type": "stream",
     "text": [
      "Flow Epoch 96/100: 100%|██████████| 600/600 [00:03<00:00, 150.12it/s]\n"
     ]
    },
    {
     "name": "stdout",
     "output_type": "stream",
     "text": [
      "Epoch [96/100], Average Loss: 23.1073\n"
     ]
    },
    {
     "name": "stderr",
     "output_type": "stream",
     "text": [
      "Flow Epoch 97/100: 100%|██████████| 600/600 [00:04<00:00, 147.60it/s]\n"
     ]
    },
    {
     "name": "stdout",
     "output_type": "stream",
     "text": [
      "Epoch [97/100], Average Loss: 23.1047\n"
     ]
    },
    {
     "name": "stderr",
     "output_type": "stream",
     "text": [
      "Flow Epoch 98/100: 100%|██████████| 600/600 [00:04<00:00, 145.04it/s]\n"
     ]
    },
    {
     "name": "stdout",
     "output_type": "stream",
     "text": [
      "Epoch [98/100], Average Loss: 23.1116\n"
     ]
    },
    {
     "name": "stderr",
     "output_type": "stream",
     "text": [
      "Flow Epoch 99/100: 100%|██████████| 600/600 [00:03<00:00, 170.86it/s]\n"
     ]
    },
    {
     "name": "stdout",
     "output_type": "stream",
     "text": [
      "Epoch [99/100], Average Loss: 23.0574\n"
     ]
    },
    {
     "name": "stderr",
     "output_type": "stream",
     "text": [
      "Flow Epoch 100/100: 100%|██████████| 600/600 [00:02<00:00, 209.82it/s]"
     ]
    },
    {
     "name": "stdout",
     "output_type": "stream",
     "text": [
      "Epoch [100/100], Average Loss: 23.0624\n"
     ]
    },
    {
     "name": "stderr",
     "output_type": "stream",
     "text": [
      "\n"
     ]
    }
   ],
   "source": [
    "NUM_FLOW_LAYERS = 8\n",
    "HIDDEN_DIM_FLOW = 128\n",
    "flow_model = RealNVP(EMBEDDING_DIM, HIDDEN_DIM_FLOW, NUM_FLOW_LAYERS).to(device)\n",
    "optimizer_flow = torch.optim.Adam(flow_model.parameters(), lr=5e-4)\n",
    "num_epochs_flow = 100\n",
    "\n",
    "flow_model.train()\n",
    "for epoch in range(num_epochs_flow):\n",
    "    total_loss = 0\n",
    "    for embeds, labels in tqdm(embedding_loader, desc=f\"Flow Epoch {epoch+1}/{num_epochs_flow}\"):\n",
    "        embeds = embeds.to(device)\n",
    "        # One-hot encode labels for conditioning\n",
    "        condition = F.one_hot(labels, num_classes=10).float().to(device)\n",
    "        \n",
    "        # Forward pass\n",
    "        z, log_det = flow_model(embeds, condition)\n",
    "        log_prob = flow_model.prior.log_prob(z)\n",
    "        loss = -(log_prob + log_det).mean()\n",
    "\n",
    "        # Backward pass and optimization\n",
    "        optimizer_flow.zero_grad()\n",
    "        loss.backward()\n",
    "        optimizer_flow.step()\n",
    "        \n",
    "        total_loss += loss.item()\n",
    "        \n",
    "    avg_loss = total_loss / len(embedding_loader)\n",
    "    print(f\"Epoch [{epoch+1}/{num_epochs_flow}], Average Loss: {avg_loss:.4f}\")"
   ]
  },
  {
   "cell_type": "markdown",
   "metadata": {},
   "source": [
    "### Evaluating the Model"
   ]
  },
  {
   "cell_type": "markdown",
   "metadata": {},
   "source": [
    "We will train the Normalizing Flow model to learn the distribution of the embeddings created by our Autoencoder.\n",
    "\n",
    "1️⃣ **Forward Pass** → Transform an image embedding `emb` into a latent vector `u` from the prior distribution.\n",
    "\n",
    "2️⃣ **Compute Loss** → Maximize the log-likelihood using the `log_det` from the transformation and the `logprob` of `u` under the prior.\n",
    "\n",
    "3️⃣ **Backward Pass** → Update model parameters to improve the transformation."
   ]
  },
  {
   "cell_type": "code",
   "execution_count": 107,
   "metadata": {},
   "outputs": [
    {
     "data": {
      "image/png": "[encoded data removed]",
      "text/plain": [
       "<Figure size 2000x200 with 10 Axes>"
      ]
     },
     "metadata": {},
     "output_type": "display_data"
    }
   ],
   "source": [
    "flow_model.eval()\n",
    "ae_model.eval()\n",
    "\n",
    "# Generate 10 images, one for each digit\n",
    "num_generate = 10\n",
    "labels_to_generate = torch.arange(num_generate).long()\n",
    "condition_generate = F.one_hot(labels_to_generate, num_classes=10).float().to(device)\n",
    "\n",
    "with torch.no_grad():\n",
    "    # Generate new embeddings from the flow model\n",
    "    generated_embeds = flow_model.sample(num_generate, condition_generate)\n",
    "    # Decode the embeddings into images\n",
    "    generated_images = ae_model.decoder(generated_embeds).view(-1, 1, 28, 28)\n",
    "\n",
    "# Plot the results\n",
    "fig, axes = plt.subplots(1, 10, figsize=(20, 2))\n",
    "for i in range(num_generate):\n",
    "    ax = axes[i]\n",
    "    ax.imshow(generated_images[i].cpu().squeeze(), cmap='gray')\n",
    "    ax.set_title(f\"Digit: {i}\")\n",
    "    ax.axis('off')\n",
    "plt.show()"
   ]
  },
  {
   "cell_type": "markdown",
   "metadata": {},
   "source": [
    "## **🔹 Exercise: Experiment with Hyperparameters**\n",
    "\n",
    "The quality of the generated images depends on both the Autoencoder's representation and the Normalizing Flow's ability to model it. Try experimenting to see how the results change!\n",
    "\n",
    "### **📝 Tasks**\n",
    "\n",
    "1.  **Embedding Dimension**: In the Autoencoder, change `EMBEDDING_DIM`. How does a smaller dimension (e.g., `10`) or a larger one (e.g., `50`) affect the final generated images?\n",
    "2.  **Flow Depth**: Modify `FLOW_N`, the number of coupling layers in the `LinearRNVP` model. Does a deeper flow (e.g., `12`) produce sharper or more diverse samples? What about a shallower one (e.g., `4`)?\n",
    "3.  **Network Topology**: Adjust `RNVP_TOPOLOGY`, which controls the size of the hidden networks inside each coupling layer. Try `[100]` or `[400, 400]`. How does the complexity of these networks impact performance and training time?\n",
    "4.  **Batch Normalization**: Turn off `batch_norm` in the `LinearRNVP` constructor. How does this affect training stability and the final results?\n"
   ]
  },
  {
   "cell_type": "markdown",
   "metadata": {},
   "source": [
    "### Contributed by: Ali Habibullah."
   ]
  },
  {
   "cell_type": "code",
   "execution_count": null,
   "metadata": {},
   "outputs": [],
   "source": []
  }
 ],
 "metadata": {
  "kernelspec": {
   "display_name": "base",
   "language": "python",
   "name": "python3"
  },
  "language_info": {
   "codemirror_mode": {
    "name": "ipython",
    "version": 3
   },
   "file_extension": ".py",
   "mimetype": "text/x-python",
   "name": "python",
   "nbconvert_exporter": "python",
   "pygments_lexer": "ipython3",
   "version": "3.12.7"
  }
 },
 "nbformat": 4,
 "nbformat_minor": 4
}
