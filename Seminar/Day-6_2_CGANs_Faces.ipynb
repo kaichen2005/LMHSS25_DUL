{
 "cells": [
  {
   "cell_type": "markdown",
   "id": "b6d4aa2d9dd1cbf8",
   "metadata": {
    "id": "2Hu5LPRgr152"
   },
   "source": [
    "# 🎨 Conditional Image Generation with cGANs"
   ]
  },
  {
   "cell_type": "markdown",
   "id": "5e60a21aa8ad0cfa",
   "metadata": {
    "id": "Jc1X0DEysUuO"
   },
   "source": [
    "While standard GANs learn to generate realistic images from a dataset, they offer no control over *what kind* of image is generated. The output is entirely random.\n",
    "\n",
    "**Conditional GANs (cGANs)** solve this by introducing a **condition** (`y`) to the generation process. This condition, which could be a class label, text, or a set of attributes, is fed into both the generator and the discriminator.\n",
    "\n",
    "- 👨‍🎨 **The Conditional Generator** learns to create 'fake' images that not only look real but also match the given condition `y`.\n",
    "- 🕵️‍♂️ **The Conditional Discriminator** learns to determine if an image is real *and* if it matches its corresponding condition `y`.\n",
    "\n",
    "This allows us to direct the image generation process. For this notebook, we'll use the CelebA dataset and condition the GAN on facial attributes like 'Smiling', 'Male', and 'Blond_Hair' to generate specific types of faces."
   ]
  },
  {
   "cell_type": "markdown",
   "id": "81d2c786084d46d7",
   "metadata": {
    "id": "sxG6IitzCCqg"
   },
   "source": [
    "![GANs vs CGANs Image](https://i.imgur.com/PNRcz5N.png) \n",
    "<p align = \"center\">\n",
    "Fig.1 - GAN vs. CGAN \n",
    "(<a href=\"https://itchef.ru/articles/341494/\">\n",
    "source\n",
    "</a>)\n",
    "</p>"
   ]
  },
  {
   "cell_type": "code",
   "execution_count": null,
   "id": "9337c06f219c166d",
   "metadata": {
    "id": "VSOwMH3CO8WX"
   },
   "outputs": [],
   "source": [
    "import torch\n",
    "import torch.nn as nn\n",
    "from torch.utils.data import Dataset, DataLoader\n",
    "from torchvision import datasets\n",
    "import pandas as pd\n",
    "\n",
    "from torchvision.transforms import Compose, ToTensor, Lambda, Resize, Normalize\n",
    "from torchsummary import summary\n",
    "import matplotlib.pyplot as plt\n",
    "from mpl_toolkits.axes_grid1 import ImageGrid\n",
    "from tqdm import tqdm\n",
    "import numpy as np\n",
    "from PIL import Image\n",
    "import kagglehub\n",
    "import os"
   ]
  },
  {
   "cell_type": "markdown",
   "id": "18d52708dde91550",
   "metadata": {},
   "source": [
    "## ⚙️ Hyperparameters and Setup\n",
    "Here we define the key parameters for our cGAN model and training process."
   ]
  },
  {
   "cell_type": "code",
   "execution_count": null,
   "id": "83a6cfdb5e18669c",
   "metadata": {
    "id": "4jhd_YH5vAHj"
   },
   "outputs": [],
   "source": [
    "EPOCHS = 5 # Training for longer can improve results, I found 150 the best for this task.\n",
    "LEARNING_RATE = 2e-4\n",
    "BATCH_SIZE = 128\n",
    "Z = 100 # Latent dimension\n",
    "IMAGE_SIZE = 64\n",
    "NUM_ATTRIBUTES = 5 # Number of conditional attributes"
   ]
  },
  {
   "cell_type": "markdown",
   "id": "bf22d3ce9c0095d7",
   "metadata": {},
   "source": [
    "## 🖼️ Loading the CelebA Dataset with Attributes\n",
    "\n",
    "We'll use the CelebA (CelebFaces Attributes) dataset, which is perfect for this task because it includes a large collection of celebrity faces, each annotated with 40 binary attributes.\n",
    "\n",
    "### 🔹 **Dataset Details:**\n",
    "- **Source**: `jessicali9530/celeba-dataset` from Kaggle\n",
    "- **Content**: Over 200,000 celebrity images with attribute annotations.\n",
    "- **Conditioning**: We will select 5 key attributes to condition our model on: `Male`, `Smiling`, `Young`, `Eyeglasses`, and `Blond_Hair`.\n",
    "- **Preprocessing**: Images are resized to `64x64` and pixel values are normalized to `[-1, 1]` to match the generator's `Tanh` output."
   ]
  },
  {
   "cell_type": "code",
   "execution_count": null,
   "id": "e0dde544ae07293e",
   "metadata": {},
   "outputs": [],
   "source": [
    "# Define transforms to resize and normalize the images\n",
    "transform_steps = Compose([\n",
    "    Resize((IMAGE_SIZE, IMAGE_SIZE)), \n",
    "    ToTensor(),\n",
    "    Normalize((0.5, 0.5, 0.5), (0.5, 0.5, 0.5)) # Normalize to [-1, 1]\n",
    "])"
   ]
  },
  {
   "cell_type": "code",
   "execution_count": null,
   "id": "913950aca50e72b2",
   "metadata": {},
   "outputs": [],
   "source": [
    "# Custom dataset class for CelebA faces and attributes\n",
    "class CelebADataset(Dataset):\n",
    "    def __init__(self, root_dir, transform=None, max_samples=None):\n",
    "        self.root_dir = root_dir\n",
    "        self.transform = transform\n",
    "        \n",
    "        # Load the main attributes file\n",
    "        attr_file = os.path.join(root_dir, 'list_attr_celeba.csv')\n",
    "        self.attr_df = pd.read_csv(attr_file)\n",
    "        \n",
    "        # Define the 5 key attributes we'll use for conditioning\n",
    "        self.selected_attributes = ['Male', 'Smiling', 'Young', 'Eyeglasses', 'Blond_Hair']\n",
    "        \n",
    "        # The image directory is nested, so we define the full path\n",
    "        self.img_dir = os.path.join(root_dir, 'img_align_celeba', 'img_align_celeba')\n",
    "        \n",
    "        self.image_files = []\n",
    "        self.attributes = []\n",
    "        \n",
    "        count = 0\n",
    "        # Iterate through the attribute file to get image names and their labels\n",
    "        for idx, row in tqdm(self.attr_df.iterrows(), total=len(self.attr_df)):\n",
    "            if max_samples and count >= max_samples:\n",
    "                break\n",
    "                \n",
    "            img_filename = row['image_id']\n",
    "            img_path = os.path.join(self.img_dir, img_filename)\n",
    "\n",
    "            # Only add the file if it actually exists\n",
    "            if os.path.exists(img_path):\n",
    "                self.image_files.append(img_path)\n",
    "                # The attributes are stored as -1 and 1. We convert them to 0 and 1.\n",
    "                attrs = [(row[attr] + 1) // 2 for attr in self.selected_attributes]\n",
    "                self.attributes.append(attrs)\n",
    "                count += 1\n",
    "\n",
    "    \n",
    "    def __len__(self):\n",
    "        return len(self.image_files)\n",
    "    \n",
    "    def __getitem__(self, idx):\n",
    "        img_path = self.image_files[idx]\n",
    "        # Get the attributes and convert them to a tensor\n",
    "        attributes = torch.tensor(self.attributes[idx], dtype=torch.long)\n",
    "\n",
    "        # Open the image and convert to RGB\n",
    "        image = Image.open(img_path).convert('RGB')\n",
    "        if self.transform:\n",
    "            image = self.transform(image)\n",
    "            \n",
    "        # Return both the image and its corresponding attributes\n",
    "        return image, attributes"
   ]
  },
  {
   "cell_type": "code",
   "execution_count": null,
   "id": "fb625c147f72bc3c",
   "metadata": {},
   "outputs": [],
   "source": [
    "# Download the CelebA dataset from Kaggle\n",
    "path = kagglehub.dataset_download(\"jessicali9530/celeba-dataset\")\n",
    "\n",
    "# Create the dataset object. We use a subset for faster training.\n",
    "celeba_dataset = CelebADataset(root_dir=path, transform=transform_steps, max_samples=40000)\n",
    "attribute_names = celeba_dataset.selected_attributes\n",
    "\n",
    "print(f\"\\nDataset size: {len(celeba_dataset)}\")\n",
    "print(f\"Selected attributes: {attribute_names}\")"
   ]
  },
  {
   "cell_type": "code",
   "execution_count": null,
   "id": "5fbc44da19a33729",
   "metadata": {
    "id": "RCqfqsOB45lv"
   },
   "outputs": [],
   "source": [
    "# Create the DataLoader\n",
    "train_dataloader = DataLoader(celeba_dataset, batch_size=BATCH_SIZE, shuffle=True, num_workers=2)"
   ]
  },
  {
   "cell_type": "markdown",
   "id": "cffe776f63599698",
   "metadata": {},
   "source": [
    "### 🔹 Visualizing the Data\n",
    "Let's look at some examples from the dataset to see the images and their associated attributes."
   ]
  },
  {
   "cell_type": "code",
   "execution_count": null,
   "id": "de09ea8e",
   "metadata": {},
   "outputs": [],
   "source": []
  },
  {
   "cell_type": "markdown",
   "id": "3b6e63d6da528f",
   "metadata": {
    "id": "sIaJSsev1WfC"
   },
   "source": [
    "## Building the Conditional GAN (cGAN) Models\n",
    "\n",
    "Our cGAN consists of two neural networks. The key difference from a standard GAN is that both networks now take the conditional attributes as an additional input. We will follow best practices from the DCGAN paper to stabilize training:\n",
    "\n",
    "- **Weight Initialization**: Initialize weights from a Normal distribution with `mean=0`, `stdev=0.02`.\n",
    "- **Activations**: Use `LeakyReLU` to prevent dying gradients.\n",
    "- **Optimizer**: Use the `Adam` optimizer with `beta1=0.5`.\n",
    "- **Attribute Handling**: We use `nn.Embedding` layers to convert our binary attributes (0 or 1) into dense vectors, which are easier for the network to process.\n",
    "\n",
    "--- \n",
    "\n",
    "### 👨‍🎨 The Conditional Generator\n",
    "\n",
    "The Generator's job is to create believable images that match a given set of attributes.\n",
    "\n",
    "**Architecture:**\n",
    "1.  **Input**: It takes two inputs: a 100-dimensional noise vector (`Z`) and a 5-element attribute vector.\n",
    "2.  **Embedding**: Each of the 5 attributes is passed through its own `nn.Embedding` layer. The resulting embedding vectors are concatenated together.\n",
    "3.  **Concatenation**: The latent noise vector `Z` is concatenated with the final attribute embedding vector.\n",
    "4.  **Upsampling**: This combined vector is fed through a series of `ConvTranspose2d` layers to upsample it into a `64x64` color image.\n",
    "5.  **Output**: A `Tanh` activation function ensures the output image pixels are in the range `[-1, 1]`, matching our input data.\n",
    "\n",
    "--- \n",
    "\n",
    "### 🕵️‍♂️ The Conditional Discriminator\n",
    "\n",
    "The Discriminator's job is to classify an image as real or fake, *given* a set of attributes.\n",
    "\n",
    "**Architecture:**\n",
    "1.  **Input**: It takes two inputs: a `64x64x3` image and the 5-element attribute vector.\n",
    "2.  **Image Path**: The image is passed through a series of `Conv2d` layers to extract features and downsample it.\n",
    "3.  **Attribute Path**: The attributes are passed through `nn.Embedding` layers, just like in the generator.\n",
    "4.  **Concatenation**: The flattened feature vector from the image is concatenated with the attribute embedding vector.\n",
    "5.  **Output**: This combined vector is passed through fully connected layers to produce a single `Sigmoid` output between 0 (fake or mismatched) and 1 (real and matched)."
   ]
  },
  {
   "cell_type": "code",
   "execution_count": null,
   "id": "b06dd687",
   "metadata": {},
   "outputs": [],
   "source": []
  },
  {
   "cell_type": "markdown",
   "id": "15e927fbe96efc5f",
   "metadata": {},
   "source": [
    "### Model Summaries"
   ]
  },
  {
   "cell_type": "markdown",
   "id": "e34ac7de7bb8fe4e",
   "metadata": {},
   "source": [
    "### 🎯 Loss Function and Optimizers\n",
    "\n",
    "- **Loss**: We use **Binary Cross-Entropy Loss** (`BCELoss`), which is ideal for the discriminator's binary classification task (real/matched vs. fake/mismatched).\n",
    "- **Optimizers**: We use the `Adam` optimizer for both networks with a `beta1` of 0.5, as recommended for stable GAN training."
   ]
  },
  {
   "cell_type": "code",
   "execution_count": null,
   "id": "16e5f6d8",
   "metadata": {},
   "outputs": [],
   "source": []
  },
  {
   "cell_type": "markdown",
   "id": "285238e54e6a0865",
   "metadata": {},
   "source": [
    "## 🚀 Training the cGAN\n",
    "\n",
    "The training process alternates between training the discriminator and the generator. The condition `y` (our attribute vector) is passed to both networks at each step.\n",
    "\n",
    "### Step 1: Train the Discriminator 🕵️‍♂️\n",
    "The discriminator's goal is to correctly classify real images that match their conditions, and reject fake images.\n",
    "$$ \\nabla_{\\theta_d} [\\log D(x|y) + \\log(1 - D(G(z|y)))] $$\n",
    "- We feed it a batch of **real images** with their **real attributes** and train it to classify them as `real` (label=1).\n",
    "- We then generate a batch of **fake images** using the generator (given the same real attributes) and train the discriminator to classify them as `fake` (label=0).\n",
    "\n",
    "### Step 2: Train the Generator 👨‍🎨\n",
    "The generator's goal is to fool the discriminator into thinking its fake images are real and match the given attributes.\n",
    "$$ \\nabla_{\\theta_g} \\log(D(G(z|y))) $$\n",
    "- We generate a new batch of **fake images** with their corresponding attributes.\n",
    "- We pass them through the discriminator, but this time, we use `real` labels (label=1) for the loss calculation. This way, the backpropagated gradients update the **generator's weights** to produce images that the discriminator is more likely to classify as real."
   ]
  },
  {
   "cell_type": "code",
   "execution_count": null,
   "id": "886a1b60",
   "metadata": {},
   "outputs": [],
   "source": []
  },
  {
   "cell_type": "markdown",
   "id": "35a1e8200d2916dc",
   "metadata": {},
   "source": [
    "### 📈 Training Loss Visualization\n",
    "\n",
    "Plotting the losses helps us understand the training dynamics. Ideally, the two losses should reach an equilibrium, indicating that neither model is overpowering the other. \n",
    "- **Discriminator Loss (D)**: If this loss drops to zero, the generator is failing to produce convincing fakes, and training has stalled.\n",
    "- **Generator Loss (G)**: We want to see this loss stay competitive with the discriminator's. If it grows too high, the generator is being beaten too easily."
   ]
  },
  {
   "cell_type": "code",
   "execution_count": null,
   "id": "d692374d",
   "metadata": {},
   "outputs": [],
   "source": []
  },
  {
   "cell_type": "markdown",
   "id": "53a454a243fe54ab",
   "metadata": {
    "id": "mDggVz4YBqIy"
   },
   "source": [
    "## ✨ Conditional Generation\n",
    "\n",
    "Now that training is complete, we can use our generator to create new, unique faces by providing it with random noise and our desired set of attributes."
   ]
  },
  {
   "cell_type": "code",
   "execution_count": null,
   "id": "233091c8",
   "metadata": {},
   "outputs": [],
   "source": []
  },
  {
   "cell_type": "markdown",
   "id": "6daa4806a090ff51",
   "metadata": {},
   "source": [
    "### 🤔 Discussion\n",
    "\n",
    "The results show that the cGAN is capable of generating realistic faces that often reflect the requested attributes. For example, images conditioned on 'Blond_Hair' tend to have lighter hair, and those conditioned on 'Smiling' often feature a smile. The model isn't perfect, and sometimes the attributes are subtle or mixed, but the conditioning clearly influences the output.\n",
    "\n",
    "Challenges with cGANs are similar to standard GANs:\n",
    "- **Training Instability**: The balance between the generator and discriminator is still delicate.\n",
    "- **Mode Collapse**: The generator might still produce a limited variety of faces for a given condition.\n",
    "- **Attribute Entanglement**: The model might learn spurious correlations in the data (e.g., associating lipstick with being 'Female', even if not explicitly told to). The quality of the dataset's labels is crucial.\n",
    "\n",
    "Despite these challenges, cGANs are a powerful tool for controllable generation and form the basis for many advanced models like StyleGAN and image-to-image translation networks."
   ]
  },
  {
   "cell_type": "markdown",
   "id": "762d83aaf764337d",
   "metadata": {},
   "source": [
    "## 🧪 What to Try Next\n",
    "\n",
    "- **Train for Longer**: Increasing the number of epochs can significantly improve the quality and coherence of the generated images.\n",
    "- **Explore Attribute Combinations**: Generate images with specific, interesting attribute combinations. What does a 'Male, Smiling, Blond_Hair, Eyeglasses' face look like according to the model?\n",
    "- **Latent Space Interpolation**: Create two noise vectors, `z1` and `z2`, and a fixed attribute vector `y`. Interpolate between `z1` and `z2` and see how the generated face changes while keeping the attributes constant.\n",
    "- **Attribute Interpolation**: Fix the noise vector `z` but interpolate between two different attribute vectors, `y1` and `y2`. For example, morph a non-smiling face into a smiling one."
   ]
  },
  {
   "cell_type": "markdown",
   "id": "bec4ee4f",
   "metadata": {},
   "source": [
    "### Contributed by: Ali Habibullah.\n"
   ]
  }
 ],
 "metadata": {
  "kernelspec": {
   "display_name": "base",
   "language": "python",
   "name": "python3"
  },
  "language_info": {
   "name": "python",
   "version": "3.12.7"
  }
 },
 "nbformat": 4,
 "nbformat_minor": 5
}
