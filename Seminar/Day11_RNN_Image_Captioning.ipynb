{
 "cells": [
  {
   "cell_type": "markdown",
   "metadata": {
    "id": "intro_markdown"
   },
   "source": [
    "# Image Captioning with an Encoder-Decoder RNN\n",
    "\n",
    "This notebook demonstrates how to build an image captioning model using a classic encoder-decoder architecture. This is a fascinating multi-modal task that combines Computer Vision (to understand the image) and Natural Language Processing (to generate a descriptive sentence).\n",
    "\n",
    "### **📌 The Core Idea: Encoder-Decoder**\n",
    "The model consists of two main parts that work together:\n",
    "\n",
    "1.  **The Encoder**: A pre-trained Convolutional Neural Network (CNN), like ResNet, acts as the encoder. It takes an image as input and outputs a compact feature vector (an embedding). This vector is a rich, numerical representation of the image's content—its \"thought\" vector.\n",
    "\n",
    "2.  **The Decoder**: A Recurrent Neural Network (RNN), specifically an LSTM in our case, acts as the decoder. It takes the image's feature vector from the encoder and generates the caption one word at a time. It learns the statistical structure of language to produce coherent sentences."
   ]
  },
  {
   "cell_type": "code",
   "execution_count": null,
   "metadata": {
    "id": "2OoUWgrFi82h"
   },
   "outputs": [],
   "source": [
    "from IPython.display import display"
   ]
  },
  {
   "cell_type": "code",
   "execution_count": null,
   "metadata": {
    "id": "MN1Z7uGbxTdq",
    "scrolled": true
   },
   "outputs": [],
   "source": [
    "# %pip install torch torchvision pillow spacy numpy\n",
    "# %pip install torchtext\n",
    "# %pip install pycocotools"
   ]
  },
  {
   "cell_type": "code",
   "execution_count": null,
   "metadata": {
    "id": "5EDyhvMIxybA"
   },
   "outputs": [],
   "source": [
    "import torch\n",
    "import torch.nn as nn\n",
    "import torch.optim as optim\n",
    "import torchvision.transforms as transforms\n",
    "import torchvision.models as models\n",
    "from torch.utils.data import DataLoader, Dataset\n",
    "import random\n",
    "from tqdm import tqdm\n",
    "import kagglehub\n",
    "import pandas as pd\n",
    "from PIL import Image\n",
    "import spacy\n",
    "from IPython.display import display\n",
    "import pickle\n",
    "import os\n",
    "import matplotlib.pyplot as plt"
   ]
  },
  {
   "cell_type": "markdown",
   "metadata": {
    "id": "wijrNMlqxi5R"
   },
   "source": [
    "## 1️⃣ The Dataset: Flickr8k\n",
    "We will use the Flickr8k dataset, a popular benchmark for image captioning. It contains:\n",
    "- **8,000 Images**: Sourced from the Flickr website.\n",
    "- **40,000 Captions**: Each image is paired with five different human-generated captions, providing a rich variety of descriptions.\n",
    "\n",
    "First, we'll download the dataset from Kaggle Hub and inspect its contents."
   ]
  },
  {
   "cell_type": "code",
   "execution_count": null,
   "metadata": {
    "id": "rlPorEo6jseG"
   },
   "outputs": [],
   "source": [
    "# Download the Flickr8k dataset\n",
    "path = kagglehub.dataset_download(\"adityajn105/flickr8k\")\n",
    "print(\"Path to dataset files:\", path)"
   ]
  },
  {
   "cell_type": "code",
   "execution_count": null,
   "metadata": {},
   "outputs": [],
   "source": [
    "# Load the captions from the `captions.txt` file\n",
    "captions_path = os.path.join(path, \"captions.txt\")\n",
    "captions_df = pd.read_csv(captions_path)\n",
    "print(f\"Captions loaded: {len(captions_df)} entries\")\n",
    "print(captions_df.head())"
   ]
  },
  {
   "cell_type": "code",
   "execution_count": null,
   "metadata": {},
   "outputs": [],
   "source": [
    "# Images directory\n",
    "images_dir = os.path.join(path, \"Images\")\n",
    "print(f\"Images directory: {images_dir}\")\n",
    "print(f\"Number of images: {len(os.listdir(images_dir))}\")"
   ]
  },
  {
   "cell_type": "code",
   "execution_count": null,
   "metadata": {},
   "outputs": [],
   "source": [
    "# Let's look at a sample image and one of its captions\n",
    "print(\"Sample caption:\", captions_df.iloc[0]['caption'])\n",
    "sample_image_path = os.path.join(images_dir, captions_df.iloc[0]['image'])\n",
    "sample_img = Image.open(sample_image_path)\n",
    "display(sample_img)"
   ]
  },
  {
   "cell_type": "markdown",
   "metadata": {
    "id": "pzeLAtu9zQFv"
   },
   "source": [
    "## 2️⃣ Building the Vocabulary\n",
    "\n",
    "Neural networks work with numbers, not words. Therefore, we need to build a **vocabulary** to map every unique word in our dataset to a unique integer index. We also add special tokens that are crucial for the training process:\n",
    "\n",
    "- `<PAD>`: A padding token used to make all sequences in a batch the same length.\n",
    "- `<SOS>`: A \"Start of Sentence\" token that signals the beginning of a caption to the decoder.\n",
    "- `<EOS>`: An \"End of Sentence\" token that the model learns to predict when it has finished generating a caption.\n",
    "- `<UNK>`: An \"Unknown\" token for words that appear in the test set but not in our training vocabulary.\n",
    "\n",
    "We use the `spaCy` library for robust and efficient tokenization."
   ]
  },
  {
   "cell_type": "code",
   "execution_count": null,
   "metadata": {
    "id": "I2kg8R_nhN1A"
   },
   "outputs": [],
   "source": [
    "spacy_eng = spacy.load(\"en_core_web_sm\") # you might need to run this: python -m spacy download en_core_web_sm"
   ]
  },
  {
   "cell_type": "code",
   "execution_count": null,
   "metadata": {
    "id": "y-3CxVtzxcd6"
   },
   "outputs": [],
   "source": [
    "def word_tokenize(text):\n",
    "    return [tok.text.lower() for tok in spacy_eng.tokenizer(text)]"
   ]
  },
  {
   "cell_type": "code",
   "execution_count": null,
   "metadata": {
    "id": "_JQ8Ow_t7B7P"
   },
   "outputs": [],
   "source": [
    "# Initialize vocabulary with special tokens\n",
    "word_to_index = {'<PAD>': 0, '<SOS>': 1, '<EOS>': 2, '<UNK>': 3}\n",
    "index_to_word = {idx: word for word, idx in word_to_index.items()}\n",
    "word_freq = {}\n",
    "\n",
    "# Build vocabulary from all captions in the dataset\n",
    "for caption in tqdm(captions_df['caption']):\n",
    "    tokens = word_tokenize(caption.lower())\n",
    "    \n",
    "    for token in tokens:\n",
    "        if token not in word_to_index:\n",
    "            idx = len(word_to_index)\n",
    "            word_to_index[token] = idx\n",
    "            index_to_word[idx] = token\n",
    "            word_freq[token] = 1\n",
    "        else:\n",
    "            word_freq[token] += 1\n",
    "\n",
    "print(f\"\\nVocabulary size: {len(word_to_index)}\")"
   ]
  },
  {
   "cell_type": "code",
   "execution_count": null,
   "metadata": {
    "id": "Mbv23I3-xUee"
   },
   "outputs": [],
   "source": [
    "word_tokenize('<SOS> hi, my friend <EOS>')  # We will manually add tokens for <EOS> and <SOS> etc after tokenization to avoid them breaking up."
   ]
  },
  {
   "cell_type": "markdown",
   "metadata": {
    "id": "i79_gIk-1zut"
   },
   "source": [
    "## 3️⃣ The Model: A CNN-RNN Encoder-Decoder\n",
    "Our model is composed of two main modules: an Encoder to process the image and a Decoder to generate the text."
   ]
  },
  {
   "cell_type": "markdown",
   "metadata": {},
   "source": [
    "### 🔹 The Encoder (CNN)\n",
    "We use a pre-trained ResNet-50 model, which has already learned rich feature representations from the large ImageNet dataset. We perform two key modifications:\n",
    "1.  **Freeze Layers**: We freeze all the convolutional layers (`requires_grad_(False)`) to prevent them from being updated during training. This is a form of transfer learning that speeds up training and prevents overfitting.\n",
    "2.  **Replace Classifier**: We chop off the final, fully-connected classification layer (which originally predicts 1000 ImageNet classes) and replace it with a new `nn.Linear` layer. This new layer will output a feature vector of `embed_size`, which will be the input to our decoder."
   ]
  },
  {
   "cell_type": "markdown",
   "metadata": {},
   "source": [
    "### 🔹 The Decoder (RNN)\n",
    "The decoder is an LSTM (Long Short-Term Memory) network, a type of RNN well-suited for sequence generation.\n",
    "\n",
    "1.  **Embedding Layer**: It first converts the integer-coded words of the caption into dense vectors of size `embed_size`.\n",
    "2.  **Input Concatenation**: The decoder's first input is the image feature vector from the encoder. For subsequent steps, it takes the embedded representation of the previously generated word.\n",
    "3.  **LSTM**: The LSTM processes the sequence of inputs, maintaining a hidden state that keeps track of the context of the generated sentence.\n",
    "4.  **Linear Layer**: A final linear layer maps the LSTM's output to the size of our vocabulary, producing a probability distribution over all possible next words."
   ]
  },
  {
   "cell_type": "markdown",
   "metadata": {},
   "source": [
    "### 🔹 The Inference Method (`caption_image`)\n",
    "This method is used for generating new captions after the model is trained. It works *autoregressively*:\n",
    "1.  The image is passed through the encoder to get its feature vector.\n",
    "2.  This feature vector is fed into the decoder to predict the first word (which should be `<SOS>`).\n",
    "3.  The predicted word is then fed back into the decoder as input for the next time step.\n",
    "4.  This process repeats until the model predicts the `<EOS>` token or a maximum length is reached."
   ]
  },
  {
   "cell_type": "code",
   "execution_count": null,
   "metadata": {},
   "outputs": [],
   "source": []
  },
  {
   "cell_type": "markdown",
   "metadata": {
    "id": "UVkEmkR_kqU6"
   },
   "source": [
    "## 4️⃣ The PyTorch Dataset and DataLoader\n",
    "We create a custom `Flickr8kDataset` class to interface with our data. This is the standard PyTorch way to prepare data for a `DataLoader`.\n",
    "\n",
    "The `__getitem__` method is the most important part. For a given index `idx`, it performs these steps:\n",
    "1.  Loads the image and its corresponding caption from our dataframe.\n",
    "2.  Applies the necessary image transformations (resizing to a fixed size, converting to a tensor, and normalizing).\n",
    "3.  Tokenizes the caption, converts it to a sequence of indices, and adds the `<SOS>` and `<EOS>` tokens.\n",
    "4.  Pads the caption tensor with the `<PAD>` token index so that all sequences in a batch have the same length (`max_seq_len`). This is required for batch processing."
   ]
  },
  {
   "cell_type": "code",
   "execution_count": null,
   "metadata": {},
   "outputs": [],
   "source": []
  },
  {
   "cell_type": "markdown",
   "metadata": {},
   "source": [
    "## 5️⃣ Model Training\n",
    "Now we define the hyperparameters, initialize the model, and set up the optimizer and loss function for training."
   ]
  },
  {
   "cell_type": "markdown",
   "metadata": {},
   "source": [
    "### 🔹 Hyperparameters & Setup\n",
    "These are the key settings for our model and training process. Tuning these can significantly impact performance."
   ]
  },
  {
   "cell_type": "code",
   "execution_count": null,
   "metadata": {},
   "outputs": [],
   "source": []
  },
  {
   "cell_type": "markdown",
   "metadata": {},
   "source": [
    "### 🔹 Loss Function and Optimizer\n",
    "- **Loss Function**: We use `nn.CrossEntropyLoss`. This is the standard choice for multi-class classification, which is what we're doing at each time step—predicting the next word from the entire vocabulary.\n",
    "Importantly, we set `ignore_index=word_to_index['<PAD>']`. This tells the loss function to ignore the `<PAD>` tokens when calculating the loss, so the model isn't penalized for its predictions on padded parts of the sequence.\n",
    "\n",
    "- **Optimizer**: We use the Adam optimizer, a popular and effective choice for deep learning models."
   ]
  },
  {
   "cell_type": "code",
   "execution_count": null,
   "metadata": {},
   "outputs": [],
   "source": []
  },
  {
   "cell_type": "markdown",
   "metadata": {
    "id": "Db6Iq3hU3GMk"
   },
   "source": [
    "### 🔹 Pre-training Check\n",
    "Before we start training, let's see what our randomly initialized model produces. We expect the captions to be nonsensical."
   ]
  },
  {
   "cell_type": "code",
   "execution_count": null,
   "metadata": {},
   "outputs": [],
   "source": []
  },
  {
   "cell_type": "markdown",
   "metadata": {
    "id": "oOQLLt_F3iIs"
   },
   "source": [
    "### 🔹 The Training Loop\n",
    "The training process involves iterating through the dataset for a number of epochs. In each step:\n",
    "\n",
    "1.  **Teacher Forcing**: We feed the ground-truth caption (shifted by one position) into the decoder at each time step, regardless of the decoder's own prediction from the previous step. This is a technique called *teacher forcing*, which stabilizes training and helps the model learn the language structure more quickly. We feed `captions[:, :-1]` (from `<SOS>` to the second-to-last word) and expect the model to predict `captions[:, 1:]` (from the first word to `<EOS>`).\n",
    "2.  **Calculate Loss**: The model's output (logits) is compared against the target sequence to calculate the loss.\n",
    "3.  **Backpropagation**: The loss is backpropagated through the network to compute gradients.\n",
    "4.  **Gradient Clipping**: We clip the gradients (`clip_grad_norm_`) to a maximum value. This is a common practice in RNN training to prevent the \"exploding gradients\" problem.\n",
    "5.  **Optimizer Step**: The optimizer updates the model's trainable parameters (the decoder and the final layer of the encoder)."
   ]
  },
  {
   "cell_type": "code",
   "execution_count": null,
   "metadata": {},
   "outputs": [],
   "source": []
  },
  {
   "cell_type": "markdown",
   "metadata": {},
   "source": [
    "### 🔹 Plotting the Training Progress\n",
    "Visualizing the loss helps us understand how well the model is learning. A decreasing loss indicates that the model is successfully minimizing its prediction error over time."
   ]
  },
  {
   "cell_type": "code",
   "execution_count": null,
   "metadata": {},
   "outputs": [],
   "source": []
  },
  {
   "cell_type": "markdown",
   "metadata": {},
   "source": [
    "## 6️⃣ Saving and Loading the Model\n",
    "\n",
    "To avoid retraining the model every time we want to use it, we can save its state. It's good practice to save three things:\n",
    "1.  **Model State Dictionary**: The learned weights and biases of the model.\n",
    "2.  **Vocabulary Mappings**: The `word_to_index` and `index_to_word` dictionaries are essential for converting between words and indices during inference.\n",
    "3.  **Model Configuration**: The hyperparameters used to build the model (`embed_size`, `hidden_size`, etc.), so we can perfectly reconstruct the architecture before loading the weights."
   ]
  },
  {
   "cell_type": "code",
   "execution_count": null,
   "metadata": {},
   "outputs": [],
   "source": []
  },
  {
   "cell_type": "markdown",
   "metadata": {},
   "source": [
    "## 7️⃣ Generating Captions (Inference)\n",
    "Finally, let's see our trained model in action! We will use the same test images from our pre-training check and compare the new, hopefully much-improved, captions.\n",
    "\n",
    "The model is set to evaluation mode (`model.eval()`) to disable layers like Dropout that are only used during training."
   ]
  },
  {
   "cell_type": "code",
   "execution_count": null,
   "metadata": {},
   "outputs": [],
   "source": []
  },
  {
   "cell_type": "markdown",
   "metadata": {},
   "source": [
    "## 8️⃣ Conclusion & Next Steps\n",
    "\n",
    "We have successfully built, trained, and evaluated an image captioning model using a CNN encoder and an RNN decoder. While the results after a short training run are promising, they can be significantly improved.\n",
    "\n",
    "### **📝 Exercises for Further Exploration**\n",
    "1.  **More Training**: The most impactful change would be to train for more `epochs` on a larger portion of the dataset (or the full dataset). Deep learning models are data-hungry!\n",
    "2.  **Hyperparameter Tuning**: Experiment with different values for `embed_size`, `hidden_size`, `num_decoder_layers`, and `learning_rate`.\n",
    "3.  **Different RNNs**: Replace the `nn.LSTM` with a `nn.GRU` in the decoder. Compare the results and training time.\n",
    "4.  **Attention Mechanism**: The biggest architectural improvement for this task is to add an **attention mechanism**. Attention allows the decoder to dynamically focus on different parts of the image as it generates each word, often leading to more accurate and contextually relevant captions. This is a key component in modern sequence-to-sequence models.\n",
    "5.  **Beam Search Decoding**: The current `caption_image` method uses greedy decoding (picking the single best word at each step). Implement **beam search**, which keeps track of the `k` most probable sequences at each step, often resulting in higher-quality final captions."
   ]
  },
  {
   "cell_type": "markdown",
   "metadata": {},
   "source": [
    "### Contributed by: Ali Habibullah(Changed from Telha Bilal original notebook 🫡)"
   ]
  }
 ],
 "metadata": {
  "accelerator": "GPU",
  "colab": {
   "gpuType": "T4",
   "provenance": []
  },
  "kernelspec": {
   "display_name": "Python 3 (ipykernel)",
   "language": "python",
   "name": "python3"
  },
  "language_info": {
   "codemirror_mode": {
    "name": "ipython",
    "version": 3
   },
   "file_extension": ".py",
   "mimetype": "text/x-python",
   "name": "python",
   "nbconvert_exporter": "python",
   "pygments_lexer": "ipython3",
   "version": "3.11.4"
  }
 },
 "nbformat": 4,
 "nbformat_minor": 0
}
